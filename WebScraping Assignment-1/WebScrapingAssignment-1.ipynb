{
 "cells": [
  {
   "cell_type": "markdown",
   "id": "791935e0",
   "metadata": {},
   "source": [
    "#                                   Web Scraping Assignment"
   ]
  },
  {
   "cell_type": "code",
   "execution_count": null,
   "id": "a7298b08",
   "metadata": {},
   "outputs": [],
   "source": []
  },
  {
   "cell_type": "markdown",
   "id": "ead56816",
   "metadata": {},
   "source": [
    "#1. display all the header tags from‘en.wikipedia.org/wiki/Main_Page’"
   ]
  },
  {
   "cell_type": "code",
   "execution_count": 2,
   "id": "2f33d616",
   "metadata": {},
   "outputs": [],
   "source": [
    "from bs4 import BeautifulSoup\n",
    "import requests\n",
    "import pandas as pd"
   ]
  },
  {
   "cell_type": "code",
   "execution_count": 161,
   "id": "6f68e694",
   "metadata": {},
   "outputs": [
    {
     "data": {
      "text/plain": [
       "<Response [200]>"
      ]
     },
     "execution_count": 161,
     "metadata": {},
     "output_type": "execute_result"
    }
   ],
   "source": [
    "page=requests.get('https://en.wikipedia.org/wiki/Main_Page')\n",
    "page"
   ]
  },
  {
   "cell_type": "code",
   "execution_count": 142,
   "id": "3788b1ea",
   "metadata": {},
   "outputs": [],
   "source": [
    "soup=BeautifulSoup(page.content,'html.parser')"
   ]
  },
  {
   "cell_type": "code",
   "execution_count": 143,
   "id": "38da123d",
   "metadata": {},
   "outputs": [],
   "source": [
    "name = soup.find_all(['h1','h2','h3'])\n",
    "\n"
   ]
  },
  {
   "cell_type": "code",
   "execution_count": 144,
   "id": "f0eeec92",
   "metadata": {},
   "outputs": [],
   "source": [
    "header_tag = [] #empty list\n",
    "\n",
    "for i in name:\n",
    "    header_tag.append(i.text.replace(\"\\n\",\"\"))"
   ]
  },
  {
   "cell_type": "code",
   "execution_count": 145,
   "id": "02f9e254",
   "metadata": {},
   "outputs": [
    {
     "data": {
      "text/plain": [
       "23"
      ]
     },
     "execution_count": 145,
     "metadata": {},
     "output_type": "execute_result"
    }
   ],
   "source": [
    "len(header_tag)"
   ]
  },
  {
   "cell_type": "code",
   "execution_count": 146,
   "id": "9e65e5c3",
   "metadata": {},
   "outputs": [],
   "source": [
    "import pandas as pd"
   ]
  },
  {
   "cell_type": "code",
   "execution_count": 147,
   "id": "091bffab",
   "metadata": {},
   "outputs": [
    {
     "data": {
      "text/html": [
       "<div>\n",
       "<style scoped>\n",
       "    .dataframe tbody tr th:only-of-type {\n",
       "        vertical-align: middle;\n",
       "    }\n",
       "\n",
       "    .dataframe tbody tr th {\n",
       "        vertical-align: top;\n",
       "    }\n",
       "\n",
       "    .dataframe thead th {\n",
       "        text-align: right;\n",
       "    }\n",
       "</style>\n",
       "<table border=\"1\" class=\"dataframe\">\n",
       "  <thead>\n",
       "    <tr style=\"text-align: right;\">\n",
       "      <th></th>\n",
       "      <th>header_tag</th>\n",
       "    </tr>\n",
       "  </thead>\n",
       "  <tbody>\n",
       "    <tr>\n",
       "      <th>0</th>\n",
       "      <td>Main Page</td>\n",
       "    </tr>\n",
       "    <tr>\n",
       "      <th>1</th>\n",
       "      <td>From today's featured article</td>\n",
       "    </tr>\n",
       "    <tr>\n",
       "      <th>2</th>\n",
       "      <td>Did you know ...</td>\n",
       "    </tr>\n",
       "    <tr>\n",
       "      <th>3</th>\n",
       "      <td>In the news</td>\n",
       "    </tr>\n",
       "    <tr>\n",
       "      <th>4</th>\n",
       "      <td>On this day</td>\n",
       "    </tr>\n",
       "    <tr>\n",
       "      <th>5</th>\n",
       "      <td>From today's featured list</td>\n",
       "    </tr>\n",
       "    <tr>\n",
       "      <th>6</th>\n",
       "      <td>Today's featured picture</td>\n",
       "    </tr>\n",
       "    <tr>\n",
       "      <th>7</th>\n",
       "      <td>Other areas of Wikipedia</td>\n",
       "    </tr>\n",
       "    <tr>\n",
       "      <th>8</th>\n",
       "      <td>Wikipedia's sister projects</td>\n",
       "    </tr>\n",
       "    <tr>\n",
       "      <th>9</th>\n",
       "      <td>Wikipedia languages</td>\n",
       "    </tr>\n",
       "    <tr>\n",
       "      <th>10</th>\n",
       "      <td>Navigation menu</td>\n",
       "    </tr>\n",
       "    <tr>\n",
       "      <th>11</th>\n",
       "      <td>Personal tools</td>\n",
       "    </tr>\n",
       "    <tr>\n",
       "      <th>12</th>\n",
       "      <td>Namespaces</td>\n",
       "    </tr>\n",
       "    <tr>\n",
       "      <th>13</th>\n",
       "      <td>Variants</td>\n",
       "    </tr>\n",
       "    <tr>\n",
       "      <th>14</th>\n",
       "      <td>Views</td>\n",
       "    </tr>\n",
       "    <tr>\n",
       "      <th>15</th>\n",
       "      <td>More</td>\n",
       "    </tr>\n",
       "    <tr>\n",
       "      <th>16</th>\n",
       "      <td>Search</td>\n",
       "    </tr>\n",
       "    <tr>\n",
       "      <th>17</th>\n",
       "      <td>Navigation</td>\n",
       "    </tr>\n",
       "    <tr>\n",
       "      <th>18</th>\n",
       "      <td>Contribute</td>\n",
       "    </tr>\n",
       "    <tr>\n",
       "      <th>19</th>\n",
       "      <td>Tools</td>\n",
       "    </tr>\n",
       "    <tr>\n",
       "      <th>20</th>\n",
       "      <td>Print/export</td>\n",
       "    </tr>\n",
       "    <tr>\n",
       "      <th>21</th>\n",
       "      <td>In other projects</td>\n",
       "    </tr>\n",
       "    <tr>\n",
       "      <th>22</th>\n",
       "      <td>Languages</td>\n",
       "    </tr>\n",
       "  </tbody>\n",
       "</table>\n",
       "</div>"
      ],
      "text/plain": [
       "                       header_tag\n",
       "0                       Main Page\n",
       "1   From today's featured article\n",
       "2                Did you know ...\n",
       "3                     In the news\n",
       "4                     On this day\n",
       "5      From today's featured list\n",
       "6        Today's featured picture\n",
       "7        Other areas of Wikipedia\n",
       "8     Wikipedia's sister projects\n",
       "9             Wikipedia languages\n",
       "10                Navigation menu\n",
       "11                 Personal tools\n",
       "12                     Namespaces\n",
       "13                       Variants\n",
       "14                          Views\n",
       "15                           More\n",
       "16                         Search\n",
       "17                     Navigation\n",
       "18                     Contribute\n",
       "19                          Tools\n",
       "20                   Print/export\n",
       "21              In other projects\n",
       "22                      Languages"
      ]
     },
     "execution_count": 147,
     "metadata": {},
     "output_type": "execute_result"
    }
   ],
   "source": [
    "Wikipedia_header=pd.DataFrame({})\n",
    "Wikipedia_header[\"header_tag\"]= header_tag\n",
    "Wikipedia_header"
   ]
  },
  {
   "cell_type": "code",
   "execution_count": null,
   "id": "c38d5a30",
   "metadata": {},
   "outputs": [],
   "source": []
  },
  {
   "cell_type": "code",
   "execution_count": null,
   "id": "19c23977",
   "metadata": {},
   "outputs": [],
   "source": []
  },
  {
   "cell_type": "markdown",
   "id": "ef1a52a2",
   "metadata": {},
   "source": [
    "#2. python program to display IMDB’s Top rated 100 movies’ data (i.e. Name, IMDB rating, Year of release)."
   ]
  },
  {
   "cell_type": "code",
   "execution_count": 8,
   "id": "e92f0ebc",
   "metadata": {},
   "outputs": [
    {
     "data": {
      "text/plain": [
       "<Response [200]>"
      ]
     },
     "execution_count": 8,
     "metadata": {},
     "output_type": "execute_result"
    }
   ],
   "source": [
    "page = requests.get(\"https://www.imdb.com/chart/top\")\n",
    "page"
   ]
  },
  {
   "cell_type": "code",
   "execution_count": 9,
   "id": "d20c515c",
   "metadata": {},
   "outputs": [],
   "source": [
    "Soup = BeautifulSoup(page.content)"
   ]
  },
  {
   "cell_type": "code",
   "execution_count": 10,
   "id": "88bd8344",
   "metadata": {},
   "outputs": [],
   "source": [
    "name = Soup.find_all(\"td\", class_=\"titleColumn\")"
   ]
  },
  {
   "cell_type": "code",
   "execution_count": 11,
   "id": "60efc309",
   "metadata": {},
   "outputs": [],
   "source": [
    "movie_name = [] #empty list\n",
    "\n",
    "for i in name:\n",
    "    movie_name.append(i.text)\n"
   ]
  },
  {
   "cell_type": "code",
   "execution_count": 12,
   "id": "26e2fd47",
   "metadata": {},
   "outputs": [],
   "source": [
    "movie_name = [] #empty list\n",
    "\n",
    "for i in name:\n",
    "    movie_name.append(i.text.replace(\"\\n\",\"\"))\n"
   ]
  },
  {
   "cell_type": "code",
   "execution_count": 13,
   "id": "e062a640",
   "metadata": {},
   "outputs": [],
   "source": [
    "movie_name = [] #empty list\n",
    "\n",
    "for i in name:\n",
    "    for j in i.find_all(\"a\"):\n",
    "        movie_name.append(j.text.replace(\"\\n\",\"\"))\n",
    "    "
   ]
  },
  {
   "cell_type": "code",
   "execution_count": 14,
   "id": "9eb07c3c",
   "metadata": {},
   "outputs": [],
   "source": [
    "#Year of release\n",
    "\n",
    "release_year = Soup.find_all(\"span\",class_=\"secondaryInfo\")"
   ]
  },
  {
   "cell_type": "code",
   "execution_count": 15,
   "id": "be598cb4",
   "metadata": {},
   "outputs": [],
   "source": [
    "Release_year = []\n",
    "for i in release_year:\n",
    "    Release_year.append(i.text)\n"
   ]
  },
  {
   "cell_type": "code",
   "execution_count": 16,
   "id": "db4fe171",
   "metadata": {},
   "outputs": [],
   "source": [
    "#IMDb Rating\n",
    "imdb_rating= Soup.find_all(\"td\", class_=\"ratingColumn imdbRating\")"
   ]
  },
  {
   "cell_type": "code",
   "execution_count": 17,
   "id": "fa627351",
   "metadata": {},
   "outputs": [],
   "source": [
    "Rating = [] #empty list\n",
    "\n",
    "for i in imdb_rating:\n",
    "    Rating.append(i.text.replace(\"\\n\",\"\"))\n",
    "    "
   ]
  },
  {
   "cell_type": "code",
   "execution_count": 19,
   "id": "439b33c8",
   "metadata": {},
   "outputs": [
    {
     "data": {
      "text/html": [
       "<div>\n",
       "<style scoped>\n",
       "    .dataframe tbody tr th:only-of-type {\n",
       "        vertical-align: middle;\n",
       "    }\n",
       "\n",
       "    .dataframe tbody tr th {\n",
       "        vertical-align: top;\n",
       "    }\n",
       "\n",
       "    .dataframe thead th {\n",
       "        text-align: right;\n",
       "    }\n",
       "</style>\n",
       "<table border=\"1\" class=\"dataframe\">\n",
       "  <thead>\n",
       "    <tr style=\"text-align: right;\">\n",
       "      <th></th>\n",
       "      <th>movie_name</th>\n",
       "      <th>Release_year</th>\n",
       "      <th>Rating</th>\n",
       "    </tr>\n",
       "  </thead>\n",
       "  <tbody>\n",
       "    <tr>\n",
       "      <th>0</th>\n",
       "      <td>The Shawshank Redemption</td>\n",
       "      <td>(1994)</td>\n",
       "      <td>9.2</td>\n",
       "    </tr>\n",
       "    <tr>\n",
       "      <th>1</th>\n",
       "      <td>The Godfather</td>\n",
       "      <td>(1972)</td>\n",
       "      <td>9.1</td>\n",
       "    </tr>\n",
       "    <tr>\n",
       "      <th>2</th>\n",
       "      <td>The Godfather: Part II</td>\n",
       "      <td>(1974)</td>\n",
       "      <td>9.0</td>\n",
       "    </tr>\n",
       "    <tr>\n",
       "      <th>3</th>\n",
       "      <td>The Dark Knight</td>\n",
       "      <td>(2008)</td>\n",
       "      <td>9.0</td>\n",
       "    </tr>\n",
       "    <tr>\n",
       "      <th>4</th>\n",
       "      <td>12 Angry Men</td>\n",
       "      <td>(1957)</td>\n",
       "      <td>8.9</td>\n",
       "    </tr>\n",
       "    <tr>\n",
       "      <th>...</th>\n",
       "      <td>...</td>\n",
       "      <td>...</td>\n",
       "      <td>...</td>\n",
       "    </tr>\n",
       "    <tr>\n",
       "      <th>95</th>\n",
       "      <td>Jagten</td>\n",
       "      <td>(2012)</td>\n",
       "      <td>8.3</td>\n",
       "    </tr>\n",
       "    <tr>\n",
       "      <th>96</th>\n",
       "      <td>Requiem for a Dream</td>\n",
       "      <td>(2000)</td>\n",
       "      <td>8.3</td>\n",
       "    </tr>\n",
       "    <tr>\n",
       "      <th>97</th>\n",
       "      <td>Singin' in the Rain</td>\n",
       "      <td>(1952)</td>\n",
       "      <td>8.3</td>\n",
       "    </tr>\n",
       "    <tr>\n",
       "      <th>98</th>\n",
       "      <td>North by Northwest</td>\n",
       "      <td>(1959)</td>\n",
       "      <td>8.3</td>\n",
       "    </tr>\n",
       "    <tr>\n",
       "      <th>99</th>\n",
       "      <td>Eternal Sunshine of the Spotless Mind</td>\n",
       "      <td>(2004)</td>\n",
       "      <td>8.3</td>\n",
       "    </tr>\n",
       "  </tbody>\n",
       "</table>\n",
       "<p>100 rows × 3 columns</p>\n",
       "</div>"
      ],
      "text/plain": [
       "                               movie_name Release_year Rating\n",
       "0                The Shawshank Redemption       (1994)    9.2\n",
       "1                           The Godfather       (1972)    9.1\n",
       "2                  The Godfather: Part II       (1974)    9.0\n",
       "3                         The Dark Knight       (2008)    9.0\n",
       "4                            12 Angry Men       (1957)    8.9\n",
       "..                                    ...          ...    ...\n",
       "95                                 Jagten       (2012)    8.3\n",
       "96                    Requiem for a Dream       (2000)    8.3\n",
       "97                    Singin' in the Rain       (1952)    8.3\n",
       "98                     North by Northwest       (1959)    8.3\n",
       "99  Eternal Sunshine of the Spotless Mind       (2004)    8.3\n",
       "\n",
       "[100 rows x 3 columns]"
      ]
     },
     "execution_count": 19,
     "metadata": {},
     "output_type": "execute_result"
    }
   ],
   "source": [
    "Top_rated_movies=pd.DataFrame({})\n",
    "\n",
    "Top_rated_movies[\"movie_name\"]= movie_name[:100]\n",
    "Top_rated_movies[\"Release_year\"]=Release_year[:100]\n",
    "Top_rated_movies[\"Rating\"]=Rating[:100]\n",
    "Top_rated_movies"
   ]
  },
  {
   "cell_type": "code",
   "execution_count": null,
   "id": "72b200a8",
   "metadata": {},
   "outputs": [],
   "source": []
  },
  {
   "cell_type": "code",
   "execution_count": null,
   "id": "b5721ae7",
   "metadata": {},
   "outputs": [],
   "source": []
  },
  {
   "cell_type": "markdown",
   "id": "536b1615",
   "metadata": {},
   "source": [
    "#3. python program to display IMDB’s Top rated 100 Indian movies’ data (i.e. Name, IMDB rating, Year of release)."
   ]
  },
  {
   "cell_type": "code",
   "execution_count": null,
   "id": "db0add58",
   "metadata": {},
   "outputs": [],
   "source": []
  },
  {
   "cell_type": "code",
   "execution_count": null,
   "id": "543140d8",
   "metadata": {},
   "outputs": [],
   "source": []
  },
  {
   "cell_type": "code",
   "execution_count": 18,
   "id": "c5c1be88",
   "metadata": {},
   "outputs": [
    {
     "data": {
      "text/plain": [
       "<Response [200]>"
      ]
     },
     "execution_count": 18,
     "metadata": {},
     "output_type": "execute_result"
    }
   ],
   "source": [
    "page = requests.get(\"https://www.imdb.com/india/top-rated-indian-movies/\")\n",
    "page"
   ]
  },
  {
   "cell_type": "code",
   "execution_count": 19,
   "id": "64dd06d6",
   "metadata": {},
   "outputs": [],
   "source": [
    "Soup = BeautifulSoup(page.content)"
   ]
  },
  {
   "cell_type": "code",
   "execution_count": 20,
   "id": "5849cc77",
   "metadata": {},
   "outputs": [],
   "source": [
    "name = Soup.find_all(\"td\", class_=\"titleColumn\")"
   ]
  },
  {
   "cell_type": "code",
   "execution_count": 21,
   "id": "12e962f2",
   "metadata": {},
   "outputs": [],
   "source": [
    "Movie_name = [] #empty list\n",
    "\n",
    "for i in name:\n",
    "    Movie_name.append(i.text)\n",
    "    \n"
   ]
  },
  {
   "cell_type": "code",
   "execution_count": 22,
   "id": "208d3b79",
   "metadata": {},
   "outputs": [],
   "source": [
    "Movie_name = [] #empty list\n",
    "\n",
    "for i in name:\n",
    "    Movie_name.append(i.text.replace(\"\\n\",\"\"))\n",
    "    \n"
   ]
  },
  {
   "cell_type": "code",
   "execution_count": 23,
   "id": "875b1379",
   "metadata": {},
   "outputs": [],
   "source": [
    "Movie_name = [] #empty list\n",
    "\n",
    "for i in name:\n",
    "    for j in i.find_all(\"a\"):\n",
    "        Movie_name.append(j.text.replace(\"\\n\",\"\"))\n",
    "    \n"
   ]
  },
  {
   "cell_type": "code",
   "execution_count": 24,
   "id": "aee16220",
   "metadata": {},
   "outputs": [],
   "source": [
    "rating = Soup.find_all(\"td\",class_=\"ratingColumn imdbRating\")\n"
   ]
  },
  {
   "cell_type": "code",
   "execution_count": 25,
   "id": "4e0c10d6",
   "metadata": {},
   "outputs": [],
   "source": [
    "Rating = [] #empty list\n",
    "\n",
    "for i in rating:\n",
    "    Rating.append(i.text.replace(\"\\n\",\"\"))\n",
    "    "
   ]
  },
  {
   "cell_type": "code",
   "execution_count": 26,
   "id": "68e4c4d4",
   "metadata": {},
   "outputs": [],
   "source": [
    "#release year\n",
    "release_year= Soup.find_all(\"span\", class_=\"secondaryInfo\")"
   ]
  },
  {
   "cell_type": "code",
   "execution_count": 27,
   "id": "1fc88d22",
   "metadata": {},
   "outputs": [],
   "source": [
    "Year = [] #empty list\n",
    "\n",
    "for i in release_year:\n",
    "    Year.append(i.text.replace(\"\\n\",\"\"))\n",
    "    \n"
   ]
  },
  {
   "cell_type": "code",
   "execution_count": 28,
   "id": "d9a2768d",
   "metadata": {},
   "outputs": [
    {
     "data": {
      "text/html": [
       "<div>\n",
       "<style scoped>\n",
       "    .dataframe tbody tr th:only-of-type {\n",
       "        vertical-align: middle;\n",
       "    }\n",
       "\n",
       "    .dataframe tbody tr th {\n",
       "        vertical-align: top;\n",
       "    }\n",
       "\n",
       "    .dataframe thead th {\n",
       "        text-align: right;\n",
       "    }\n",
       "</style>\n",
       "<table border=\"1\" class=\"dataframe\">\n",
       "  <thead>\n",
       "    <tr style=\"text-align: right;\">\n",
       "      <th></th>\n",
       "      <th>Movie_name</th>\n",
       "      <th>Rating</th>\n",
       "      <th>Year</th>\n",
       "    </tr>\n",
       "  </thead>\n",
       "  <tbody>\n",
       "    <tr>\n",
       "      <th>0</th>\n",
       "      <td>Nayakan</td>\n",
       "      <td>8.5</td>\n",
       "      <td>(1987)</td>\n",
       "    </tr>\n",
       "    <tr>\n",
       "      <th>1</th>\n",
       "      <td>Anbe Sivam</td>\n",
       "      <td>8.5</td>\n",
       "      <td>(2003)</td>\n",
       "    </tr>\n",
       "    <tr>\n",
       "      <th>2</th>\n",
       "      <td>Pariyerum Perumal</td>\n",
       "      <td>8.5</td>\n",
       "      <td>(2018)</td>\n",
       "    </tr>\n",
       "    <tr>\n",
       "      <th>3</th>\n",
       "      <td>Golmaal</td>\n",
       "      <td>8.5</td>\n",
       "      <td>(1979)</td>\n",
       "    </tr>\n",
       "    <tr>\n",
       "      <th>4</th>\n",
       "      <td>C/o Kancharapalem</td>\n",
       "      <td>8.5</td>\n",
       "      <td>(2018)</td>\n",
       "    </tr>\n",
       "    <tr>\n",
       "      <th>...</th>\n",
       "      <td>...</td>\n",
       "      <td>...</td>\n",
       "      <td>...</td>\n",
       "    </tr>\n",
       "    <tr>\n",
       "      <th>95</th>\n",
       "      <td>Virumandi</td>\n",
       "      <td>8.1</td>\n",
       "      <td>(2004)</td>\n",
       "    </tr>\n",
       "    <tr>\n",
       "      <th>96</th>\n",
       "      <td>Lagaan: Once Upon a Time in India</td>\n",
       "      <td>8.1</td>\n",
       "      <td>(2001)</td>\n",
       "    </tr>\n",
       "    <tr>\n",
       "      <th>97</th>\n",
       "      <td>Kahaani</td>\n",
       "      <td>8.1</td>\n",
       "      <td>(2012)</td>\n",
       "    </tr>\n",
       "    <tr>\n",
       "      <th>98</th>\n",
       "      <td>Uri: The Surgical Strike</td>\n",
       "      <td>8.1</td>\n",
       "      <td>(2019)</td>\n",
       "    </tr>\n",
       "    <tr>\n",
       "      <th>99</th>\n",
       "      <td>Andaz Apna Apna</td>\n",
       "      <td>8.1</td>\n",
       "      <td>(1994)</td>\n",
       "    </tr>\n",
       "  </tbody>\n",
       "</table>\n",
       "<p>100 rows × 3 columns</p>\n",
       "</div>"
      ],
      "text/plain": [
       "                           Movie_name Rating    Year\n",
       "0                             Nayakan    8.5  (1987)\n",
       "1                          Anbe Sivam    8.5  (2003)\n",
       "2                   Pariyerum Perumal    8.5  (2018)\n",
       "3                             Golmaal    8.5  (1979)\n",
       "4                   C/o Kancharapalem    8.5  (2018)\n",
       "..                                ...    ...     ...\n",
       "95                          Virumandi    8.1  (2004)\n",
       "96  Lagaan: Once Upon a Time in India    8.1  (2001)\n",
       "97                            Kahaani    8.1  (2012)\n",
       "98           Uri: The Surgical Strike    8.1  (2019)\n",
       "99                    Andaz Apna Apna    8.1  (1994)\n",
       "\n",
       "[100 rows x 3 columns]"
      ]
     },
     "execution_count": 28,
     "metadata": {},
     "output_type": "execute_result"
    }
   ],
   "source": [
    "Top_Indian_movie=pd.DataFrame({})\n",
    "Top_Indian_movie[\"Movie_name\"]= Movie_name[:100]\n",
    "Top_Indian_movie['Rating']=Rating[:100]\n",
    "Top_Indian_movie[\"Year\"]=Year[:100]\n",
    "Top_Indian_movie"
   ]
  },
  {
   "cell_type": "code",
   "execution_count": null,
   "id": "2d3ceeef",
   "metadata": {},
   "outputs": [],
   "source": []
  },
  {
   "cell_type": "code",
   "execution_count": null,
   "id": "38ed356a",
   "metadata": {},
   "outputs": [],
   "source": []
  },
  {
   "cell_type": "markdown",
   "id": "46a59648",
   "metadata": {},
   "source": [
    "#4. Write a python program to scrap book name, author name, genre and book review of any 5 books from\n",
    "‘www.bookpage.com’"
   ]
  },
  {
   "cell_type": "code",
   "execution_count": null,
   "id": "d82f54d7",
   "metadata": {},
   "outputs": [],
   "source": []
  },
  {
   "cell_type": "code",
   "execution_count": 29,
   "id": "3c2204fb",
   "metadata": {},
   "outputs": [
    {
     "data": {
      "text/plain": [
       "<Response [200]>"
      ]
     },
     "execution_count": 29,
     "metadata": {},
     "output_type": "execute_result"
    }
   ],
   "source": [
    "page = requests.get(\"https://bookpage.com/reviews?book_genre=fiction&page=1\")\n",
    "page"
   ]
  },
  {
   "cell_type": "code",
   "execution_count": 30,
   "id": "fbdbd64d",
   "metadata": {},
   "outputs": [],
   "source": [
    "soup = BeautifulSoup(page.content)"
   ]
  },
  {
   "cell_type": "code",
   "execution_count": 31,
   "id": "a070c44a",
   "metadata": {},
   "outputs": [],
   "source": [
    "name = soup.find_all(\"h4\", class_=\"italic\")"
   ]
  },
  {
   "cell_type": "code",
   "execution_count": 32,
   "id": "b185a257",
   "metadata": {},
   "outputs": [],
   "source": [
    "Book_name = [] #empty list\n",
    "\n",
    "for i in name:\n",
    "    Book_name.append(i.text.replace(\"\\n\",\"\"))\n",
    "    "
   ]
  },
  {
   "cell_type": "code",
   "execution_count": 33,
   "id": "2249e44c",
   "metadata": {},
   "outputs": [],
   "source": [
    "author = soup.find_all(\"p\",class_=\"sans bold\")"
   ]
  },
  {
   "cell_type": "code",
   "execution_count": 34,
   "id": "e56124ee",
   "metadata": {},
   "outputs": [],
   "source": [
    "Author = [] #empty list\n",
    "\n",
    "for i in author:\n",
    "    Author.append(i.text.replace(\"\\n\",\"\"))\n",
    "    \n"
   ]
  },
  {
   "cell_type": "code",
   "execution_count": 35,
   "id": "6bd6d573",
   "metadata": {},
   "outputs": [],
   "source": [
    "#Genre\n",
    "genre= soup.find_all(\"p\", class_=\"genre-links hidden-phone\")\n"
   ]
  },
  {
   "cell_type": "code",
   "execution_count": 36,
   "id": "a4f33bbf",
   "metadata": {},
   "outputs": [],
   "source": [
    "Genre = [] #empty list\n",
    "\n",
    "for i in genre:\n",
    "    Genre.append(i.text.replace(\"\\n\",\"\"))\n",
    "    "
   ]
  },
  {
   "cell_type": "code",
   "execution_count": 37,
   "id": "d36faefc",
   "metadata": {},
   "outputs": [],
   "source": [
    "#Review\n",
    "review= soup.find_all(\"p\", class_=\"excerpt\")"
   ]
  },
  {
   "cell_type": "code",
   "execution_count": 38,
   "id": "66d09d8d",
   "metadata": {},
   "outputs": [],
   "source": [
    "Review = [] #empty list\n",
    "\n",
    "for i in review:\n",
    "    Review.append(i.text.replace(\"\\n\",\"\"))\n",
    "    "
   ]
  },
  {
   "cell_type": "code",
   "execution_count": 39,
   "id": "6c3a3e3c",
   "metadata": {},
   "outputs": [
    {
     "data": {
      "text/html": [
       "<div>\n",
       "<style scoped>\n",
       "    .dataframe tbody tr th:only-of-type {\n",
       "        vertical-align: middle;\n",
       "    }\n",
       "\n",
       "    .dataframe tbody tr th {\n",
       "        vertical-align: top;\n",
       "    }\n",
       "\n",
       "    .dataframe thead th {\n",
       "        text-align: right;\n",
       "    }\n",
       "</style>\n",
       "<table border=\"1\" class=\"dataframe\">\n",
       "  <thead>\n",
       "    <tr style=\"text-align: right;\">\n",
       "      <th></th>\n",
       "      <th>Book_name</th>\n",
       "      <th>Genre</th>\n",
       "      <th>Review</th>\n",
       "    </tr>\n",
       "  </thead>\n",
       "  <tbody>\n",
       "    <tr>\n",
       "      <th>0</th>\n",
       "      <td>★ Light Perpetual</td>\n",
       "      <td>Audio / Fiction / Literary Fiction</td>\n",
       "      <td>Featuring vibrant characters, all of whom have...</td>\n",
       "    </tr>\n",
       "    <tr>\n",
       "      <th>1</th>\n",
       "      <td>★ More Than I Love My Life</td>\n",
       "      <td>Fiction / Family Drama</td>\n",
       "      <td>David Grossman is a sympathetic if unfailingly...</td>\n",
       "    </tr>\n",
       "    <tr>\n",
       "      <th>2</th>\n",
       "      <td>★ Gordo</td>\n",
       "      <td>Fiction / Short Stories</td>\n",
       "      <td>As in John Steinbeck’s The Grapes of Wrath, th...</td>\n",
       "    </tr>\n",
       "    <tr>\n",
       "      <th>3</th>\n",
       "      <td>Velvet Was the Night</td>\n",
       "      <td>Fiction / Noir</td>\n",
       "      <td>For her next trick, Silvia Moreno-Garcia moves...</td>\n",
       "    </tr>\n",
       "    <tr>\n",
       "      <th>4</th>\n",
       "      <td>★ In the Country of Others</td>\n",
       "      <td>Fiction / Literary Fiction</td>\n",
       "      <td>Leïla Slimani’s latest novel is the first volu...</td>\n",
       "    </tr>\n",
       "  </tbody>\n",
       "</table>\n",
       "</div>"
      ],
      "text/plain": [
       "                     Book_name                               Genre  \\\n",
       "0            ★ Light Perpetual  Audio / Fiction / Literary Fiction   \n",
       "1   ★ More Than I Love My Life              Fiction / Family Drama   \n",
       "2                      ★ Gordo             Fiction / Short Stories   \n",
       "3         Velvet Was the Night                      Fiction / Noir   \n",
       "4   ★ In the Country of Others          Fiction / Literary Fiction   \n",
       "\n",
       "                                              Review  \n",
       "0  Featuring vibrant characters, all of whom have...  \n",
       "1  David Grossman is a sympathetic if unfailingly...  \n",
       "2  As in John Steinbeck’s The Grapes of Wrath, th...  \n",
       "3  For her next trick, Silvia Moreno-Garcia moves...  \n",
       "4  Leïla Slimani’s latest novel is the first volu...  "
      ]
     },
     "execution_count": 39,
     "metadata": {},
     "output_type": "execute_result"
    }
   ],
   "source": [
    "Books=pd.DataFrame({})\n",
    "Books[\"Book_name\"]= Book_name[:5]\n",
    "Books[\"Genre\"]=Genre[:5]\n",
    "Books[\"Review\"]=Review[:5]\n",
    "Books"
   ]
  },
  {
   "cell_type": "code",
   "execution_count": null,
   "id": "dc29bb70",
   "metadata": {},
   "outputs": [],
   "source": []
  },
  {
   "cell_type": "markdown",
   "id": "fc35ddc3",
   "metadata": {},
   "source": [
    "#5. Write a python program to scrape cricket rankings from ‘www.icc-cricket.com’. Scrape below data:-\n",
    "\n",
    "#i) Top 10 ODI teams in men’s cricket along with the records for matches, points andrating.\n",
    "\n",
    "#ii) Top 10 ODI Batsmen in men along with the records of their team and rating.\n",
    "\n",
    "#iii) Top 10 ODI bowlers along with the records of their team andrating"
   ]
  },
  {
   "cell_type": "code",
   "execution_count": null,
   "id": "f2420b01",
   "metadata": {},
   "outputs": [],
   "source": []
  },
  {
   "cell_type": "code",
   "execution_count": null,
   "id": "d1f2b9cb",
   "metadata": {},
   "outputs": [],
   "source": []
  },
  {
   "cell_type": "code",
   "execution_count": null,
   "id": "1802237f",
   "metadata": {},
   "outputs": [],
   "source": []
  },
  {
   "cell_type": "markdown",
   "id": "d03d500c",
   "metadata": {},
   "source": [
    "#i.  Top 10 ODI teams in men’s cricket along with the records for matches, points and rating."
   ]
  },
  {
   "cell_type": "code",
   "execution_count": null,
   "id": "fd67eb47",
   "metadata": {},
   "outputs": [],
   "source": []
  },
  {
   "cell_type": "code",
   "execution_count": 40,
   "id": "f74f74e6",
   "metadata": {},
   "outputs": [
    {
     "data": {
      "text/plain": [
       "<Response [200]>"
      ]
     },
     "execution_count": 40,
     "metadata": {},
     "output_type": "execute_result"
    }
   ],
   "source": [
    "\n",
    "page=requests.get('https://www.icc-cricket.com/rankings/mens/team-rankings/odi')\n",
    "page"
   ]
  },
  {
   "cell_type": "code",
   "execution_count": 41,
   "id": "4aec7e37",
   "metadata": {},
   "outputs": [],
   "source": [
    "soup=BeautifulSoup(page.content)"
   ]
  },
  {
   "cell_type": "code",
   "execution_count": 42,
   "id": "5fd6fe2e",
   "metadata": {},
   "outputs": [],
   "source": [
    "team=soup.find_all('span',class_='u-hide-phablet')"
   ]
  },
  {
   "cell_type": "code",
   "execution_count": 43,
   "id": "ef49e014",
   "metadata": {},
   "outputs": [],
   "source": [
    "Team=[]\n",
    "for i in team:\n",
    "    Team.append(i.text.replace('\\n',' '))\n"
   ]
  },
  {
   "cell_type": "code",
   "execution_count": 49,
   "id": "e9a6edb4",
   "metadata": {},
   "outputs": [],
   "source": [
    "matches=soup.find_all('td',class_='table-body__cell u-center-text')\n",
    "Matches=[]\n",
    "Points=[]\n",
    "j=0\n",
    "Matches.append(soup.find('td',class_='rankings-block__banner--matches').text)\n",
    "Points.append(soup.find('td',class_='rankings-block__banner--points').text)\n",
    "for i in matches:\n",
    "    if j==0 or j%2==0:\n",
    "        Matches.append(i.text.replace('\\n',''))\n",
    "    else:\n",
    "        Points.append(i.text.replace('\\n',''))\n",
    "    j+=1\n",
    "\n"
   ]
  },
  {
   "cell_type": "code",
   "execution_count": null,
   "id": "cc684a36",
   "metadata": {},
   "outputs": [],
   "source": [
    "\n",
    "\n",
    "rating=soup.find_all('td',class_='table-body__cell u-text-right rating')"
   ]
  },
  {
   "cell_type": "code",
   "execution_count": 45,
   "id": "4bfb48dd",
   "metadata": {},
   "outputs": [],
   "source": [
    "Rating=[]\n",
    "Rating.append(soup.find('td',class_='rankings-block__banner--rating u-text-right').text.replace('\\n','').replace(' ',''))\n",
    "for i in rating:\n",
    "    Rating.append(i.text.replace('\\n','').replace(' ',''))\n"
   ]
  },
  {
   "cell_type": "code",
   "execution_count": 51,
   "id": "0f69e4ab",
   "metadata": {},
   "outputs": [
    {
     "data": {
      "text/html": [
       "<div>\n",
       "<style scoped>\n",
       "    .dataframe tbody tr th:only-of-type {\n",
       "        vertical-align: middle;\n",
       "    }\n",
       "\n",
       "    .dataframe tbody tr th {\n",
       "        vertical-align: top;\n",
       "    }\n",
       "\n",
       "    .dataframe thead th {\n",
       "        text-align: right;\n",
       "    }\n",
       "</style>\n",
       "<table border=\"1\" class=\"dataframe\">\n",
       "  <thead>\n",
       "    <tr style=\"text-align: right;\">\n",
       "      <th></th>\n",
       "      <th>Team</th>\n",
       "      <th>Matches</th>\n",
       "      <th>Points</th>\n",
       "      <th>Rating</th>\n",
       "    </tr>\n",
       "  </thead>\n",
       "  <tbody>\n",
       "    <tr>\n",
       "      <th>0</th>\n",
       "      <td>New Zealand</td>\n",
       "      <td>17</td>\n",
       "      <td>2,054</td>\n",
       "      <td>121</td>\n",
       "    </tr>\n",
       "    <tr>\n",
       "      <th>1</th>\n",
       "      <td>England</td>\n",
       "      <td>32</td>\n",
       "      <td>3,793</td>\n",
       "      <td>119</td>\n",
       "    </tr>\n",
       "    <tr>\n",
       "      <th>2</th>\n",
       "      <td>Australia</td>\n",
       "      <td>28</td>\n",
       "      <td>3,244</td>\n",
       "      <td>116</td>\n",
       "    </tr>\n",
       "    <tr>\n",
       "      <th>3</th>\n",
       "      <td>India</td>\n",
       "      <td>32</td>\n",
       "      <td>3,624</td>\n",
       "      <td>113</td>\n",
       "    </tr>\n",
       "    <tr>\n",
       "      <th>4</th>\n",
       "      <td>South Africa</td>\n",
       "      <td>22</td>\n",
       "      <td>2,267</td>\n",
       "      <td>103</td>\n",
       "    </tr>\n",
       "    <tr>\n",
       "      <th>5</th>\n",
       "      <td>Pakistan</td>\n",
       "      <td>27</td>\n",
       "      <td>2,524</td>\n",
       "      <td>93</td>\n",
       "    </tr>\n",
       "    <tr>\n",
       "      <th>6</th>\n",
       "      <td>Bangladesh</td>\n",
       "      <td>29</td>\n",
       "      <td>2,639</td>\n",
       "      <td>91</td>\n",
       "    </tr>\n",
       "    <tr>\n",
       "      <th>7</th>\n",
       "      <td>West Indies</td>\n",
       "      <td>30</td>\n",
       "      <td>2,523</td>\n",
       "      <td>84</td>\n",
       "    </tr>\n",
       "    <tr>\n",
       "      <th>8</th>\n",
       "      <td>Sri Lanka</td>\n",
       "      <td>29</td>\n",
       "      <td>2,303</td>\n",
       "      <td>79</td>\n",
       "    </tr>\n",
       "    <tr>\n",
       "      <th>9</th>\n",
       "      <td>Afghanistan</td>\n",
       "      <td>17</td>\n",
       "      <td>1,054</td>\n",
       "      <td>62</td>\n",
       "    </tr>\n",
       "  </tbody>\n",
       "</table>\n",
       "</div>"
      ],
      "text/plain": [
       "           Team Matches Points Rating\n",
       "0   New Zealand      17  2,054    121\n",
       "1       England      32  3,793    119\n",
       "2     Australia      28  3,244    116\n",
       "3         India      32  3,624    113\n",
       "4  South Africa      22  2,267    103\n",
       "5      Pakistan      27  2,524     93\n",
       "6    Bangladesh      29  2,639     91\n",
       "7   West Indies      30  2,523     84\n",
       "8     Sri Lanka      29  2,303     79\n",
       "9   Afghanistan      17  1,054     62"
      ]
     },
     "execution_count": 51,
     "metadata": {},
     "output_type": "execute_result"
    }
   ],
   "source": [
    "Top_teams =pd.DataFrame({})\n",
    "Top_teams['Team']=Team[:10]\n",
    "Top_teams['Matches']=Matches[:10]\n",
    "Top_teams['Points']=Points[:10]\n",
    "Top_teams['Rating']=Rating[:10]\n",
    "Top_teams "
   ]
  },
  {
   "cell_type": "code",
   "execution_count": null,
   "id": "e9ed4e49",
   "metadata": {},
   "outputs": [],
   "source": []
  },
  {
   "cell_type": "markdown",
   "id": "77549fc0",
   "metadata": {},
   "source": [
    "#ii) Top 10 ODI Batsmen in men along with the records of their team and rating."
   ]
  },
  {
   "cell_type": "code",
   "execution_count": null,
   "id": "8e1266b3",
   "metadata": {},
   "outputs": [],
   "source": []
  },
  {
   "cell_type": "code",
   "execution_count": 53,
   "id": "e181bc44",
   "metadata": {},
   "outputs": [
    {
     "data": {
      "text/plain": [
       "<Response [200]>"
      ]
     },
     "execution_count": 53,
     "metadata": {},
     "output_type": "execute_result"
    }
   ],
   "source": [
    "page=requests.get('https://www.icc-cricket.com/rankings/mens/player-rankings/odi/batting')\n",
    "page"
   ]
  },
  {
   "cell_type": "code",
   "execution_count": 54,
   "id": "9d8f6372",
   "metadata": {},
   "outputs": [],
   "source": [
    "soup=BeautifulSoup(page.content)"
   ]
  },
  {
   "cell_type": "code",
   "execution_count": 55,
   "id": "58be5a00",
   "metadata": {},
   "outputs": [],
   "source": [
    "player=soup.find_all('td',class_='table-body__cell rankings-table__name name')"
   ]
  },
  {
   "cell_type": "code",
   "execution_count": 56,
   "id": "5e886930",
   "metadata": {},
   "outputs": [],
   "source": [
    "Player=[]\n",
    "Player.append(soup.find('div',class_='rankings-block__banner--name-large').text.replace('\\n',''))\n",
    "for i in player:\n",
    "    for j in i.find_all('a'):\n",
    "        Player.append(j.text.replace('\\n',' '))\n",
    "        "
   ]
  },
  {
   "cell_type": "code",
   "execution_count": 57,
   "id": "84856ab3",
   "metadata": {},
   "outputs": [],
   "source": [
    "rating=soup.find_all('td',class_='table-body__cell rating')"
   ]
  },
  {
   "cell_type": "code",
   "execution_count": 58,
   "id": "a6ab5f44",
   "metadata": {},
   "outputs": [],
   "source": [
    "rating=soup.find_all('td',class_='table-body__cell rating')\n",
    "Player_rating=[] #empty list\n",
    "Player_rating.append(soup.find('div',class_='rankings-block__banner--rating').text.replace('\\n','').replace(' ',''))\n",
    "for i in rating:\n",
    "    Player_rating.append(i.text.replace('\\n','').replace(' ',''))\n",
    "    "
   ]
  },
  {
   "cell_type": "code",
   "execution_count": 59,
   "id": "8728eaac",
   "metadata": {},
   "outputs": [],
   "source": [
    "country=soup.find_all('span',class_='table-body__logo-text')\n",
    "Country=[] #empty list\n",
    "Country.append(soup.find('div',class_='rankings-block__banner--nationality').text.replace('\\n','').strip())\n",
    "for i in country:\n",
    "    Country.append(i.text.replace('\\n',''))"
   ]
  },
  {
   "cell_type": "code",
   "execution_count": 60,
   "id": "72bef681",
   "metadata": {},
   "outputs": [
    {
     "data": {
      "text/html": [
       "<div>\n",
       "<style scoped>\n",
       "    .dataframe tbody tr th:only-of-type {\n",
       "        vertical-align: middle;\n",
       "    }\n",
       "\n",
       "    .dataframe tbody tr th {\n",
       "        vertical-align: top;\n",
       "    }\n",
       "\n",
       "    .dataframe thead th {\n",
       "        text-align: right;\n",
       "    }\n",
       "</style>\n",
       "<table border=\"1\" class=\"dataframe\">\n",
       "  <thead>\n",
       "    <tr style=\"text-align: right;\">\n",
       "      <th></th>\n",
       "      <th>Player</th>\n",
       "      <th>Country</th>\n",
       "      <th>Player_rating</th>\n",
       "    </tr>\n",
       "  </thead>\n",
       "  <tbody>\n",
       "    <tr>\n",
       "      <th>0</th>\n",
       "      <td>Babar Azam</td>\n",
       "      <td>PAK</td>\n",
       "      <td>873</td>\n",
       "    </tr>\n",
       "    <tr>\n",
       "      <th>1</th>\n",
       "      <td>Virat Kohli</td>\n",
       "      <td>IND</td>\n",
       "      <td>844</td>\n",
       "    </tr>\n",
       "    <tr>\n",
       "      <th>2</th>\n",
       "      <td>Rohit Sharma</td>\n",
       "      <td>IND</td>\n",
       "      <td>813</td>\n",
       "    </tr>\n",
       "    <tr>\n",
       "      <th>3</th>\n",
       "      <td>Ross Taylor</td>\n",
       "      <td>NZ</td>\n",
       "      <td>801</td>\n",
       "    </tr>\n",
       "    <tr>\n",
       "      <th>4</th>\n",
       "      <td>Aaron Finch</td>\n",
       "      <td>AUS</td>\n",
       "      <td>779</td>\n",
       "    </tr>\n",
       "    <tr>\n",
       "      <th>5</th>\n",
       "      <td>Jonny Bairstow</td>\n",
       "      <td>ENG</td>\n",
       "      <td>775</td>\n",
       "    </tr>\n",
       "    <tr>\n",
       "      <th>6</th>\n",
       "      <td>David Warner</td>\n",
       "      <td>AUS</td>\n",
       "      <td>762</td>\n",
       "    </tr>\n",
       "    <tr>\n",
       "      <th>7</th>\n",
       "      <td>Quinton de Kock</td>\n",
       "      <td>SA</td>\n",
       "      <td>758</td>\n",
       "    </tr>\n",
       "    <tr>\n",
       "      <th>8</th>\n",
       "      <td>Shai Hope</td>\n",
       "      <td>WI</td>\n",
       "      <td>758</td>\n",
       "    </tr>\n",
       "    <tr>\n",
       "      <th>9</th>\n",
       "      <td>Kane Williamson</td>\n",
       "      <td>NZ</td>\n",
       "      <td>754</td>\n",
       "    </tr>\n",
       "  </tbody>\n",
       "</table>\n",
       "</div>"
      ],
      "text/plain": [
       "            Player Country Player_rating\n",
       "0       Babar Azam     PAK           873\n",
       "1      Virat Kohli     IND           844\n",
       "2     Rohit Sharma     IND           813\n",
       "3      Ross Taylor      NZ           801\n",
       "4      Aaron Finch     AUS           779\n",
       "5   Jonny Bairstow     ENG           775\n",
       "6     David Warner     AUS           762\n",
       "7  Quinton de Kock      SA           758\n",
       "8        Shai Hope      WI           758\n",
       "9  Kane Williamson      NZ           754"
      ]
     },
     "execution_count": 60,
     "metadata": {},
     "output_type": "execute_result"
    }
   ],
   "source": [
    "TopODI_batsman=pd.DataFrame({})\n",
    "TopODI_batsman['Player']=Player[:10]\n",
    "TopODI_batsman['Country']=Country[:10]\n",
    "TopODI_batsman['Player_rating']=Player_rating[:10]\n",
    "TopODI_batsman"
   ]
  },
  {
   "cell_type": "code",
   "execution_count": null,
   "id": "0d27adb2",
   "metadata": {},
   "outputs": [],
   "source": []
  },
  {
   "cell_type": "code",
   "execution_count": null,
   "id": "9cfebf9a",
   "metadata": {},
   "outputs": [],
   "source": []
  },
  {
   "cell_type": "markdown",
   "id": "f2a0e5f7",
   "metadata": {},
   "source": [
    "#iii) Top 10 ODI bowlers along with the records of their team and rating"
   ]
  },
  {
   "cell_type": "code",
   "execution_count": null,
   "id": "624aba0c",
   "metadata": {},
   "outputs": [],
   "source": []
  },
  {
   "cell_type": "code",
   "execution_count": 61,
   "id": "acd4ff34",
   "metadata": {},
   "outputs": [
    {
     "data": {
      "text/plain": [
       "<Response [200]>"
      ]
     },
     "execution_count": 61,
     "metadata": {},
     "output_type": "execute_result"
    }
   ],
   "source": [
    "page=requests.get('https://www.icc-cricket.com/rankings/mens/player-rankings/odi/bowling')\n",
    "page"
   ]
  },
  {
   "cell_type": "code",
   "execution_count": 62,
   "id": "6b19bf0b",
   "metadata": {},
   "outputs": [],
   "source": [
    "soup=BeautifulSoup(page.content)"
   ]
  },
  {
   "cell_type": "code",
   "execution_count": 63,
   "id": "141ec59a",
   "metadata": {},
   "outputs": [],
   "source": [
    "bowler=soup.find_all('td',class_='table-body__cell rankings-table__name name')\n",
    "Bowler=[]\n",
    "Bowler.append(soup.find('div',class_='rankings-block__banner--name-large').text.replace('\\n',''))\n",
    "for i in bowler:\n",
    "    for j in i.find_all('a'):\n",
    "        Bowler.append(j.text.replace('\\n',' '))"
   ]
  },
  {
   "cell_type": "code",
   "execution_count": 64,
   "id": "18ff8f1e",
   "metadata": {},
   "outputs": [],
   "source": [
    "rating=soup.find_all('td',class_='table-body__cell rating')\n",
    "Player_rating=[]\n",
    "\n",
    "Player_rating.append(soup.find('div',class_='rankings-block__banner--rating').text.replace('\\n','').replace(' ',''))\n",
    "for i in rating:\n",
    "    Player_rating.append(i.text.replace('\\n','').replace(' ',''))\n",
    "    "
   ]
  },
  {
   "cell_type": "code",
   "execution_count": 65,
   "id": "eac4a832",
   "metadata": {},
   "outputs": [],
   "source": [
    "country=soup.find_all('span',class_='table-body__logo-text')\n",
    "Country=[]\n",
    "Country.append(soup.find('div',class_='rankings-block__banner--nationality').text.replace('\\n','').strip())\n",
    "for i in country:\n",
    "    Country.append(i.text.replace('\\n',''))\n"
   ]
  },
  {
   "cell_type": "code",
   "execution_count": 66,
   "id": "a78a6650",
   "metadata": {},
   "outputs": [
    {
     "data": {
      "text/html": [
       "<div>\n",
       "<style scoped>\n",
       "    .dataframe tbody tr th:only-of-type {\n",
       "        vertical-align: middle;\n",
       "    }\n",
       "\n",
       "    .dataframe tbody tr th {\n",
       "        vertical-align: top;\n",
       "    }\n",
       "\n",
       "    .dataframe thead th {\n",
       "        text-align: right;\n",
       "    }\n",
       "</style>\n",
       "<table border=\"1\" class=\"dataframe\">\n",
       "  <thead>\n",
       "    <tr style=\"text-align: right;\">\n",
       "      <th></th>\n",
       "      <th>Bowler</th>\n",
       "      <th>Country</th>\n",
       "      <th>Player_rating</th>\n",
       "    </tr>\n",
       "  </thead>\n",
       "  <tbody>\n",
       "    <tr>\n",
       "      <th>0</th>\n",
       "      <td>Trent Boult</td>\n",
       "      <td>NZ</td>\n",
       "      <td>737</td>\n",
       "    </tr>\n",
       "    <tr>\n",
       "      <th>1</th>\n",
       "      <td>Josh Hazlewood</td>\n",
       "      <td>AUS</td>\n",
       "      <td>709</td>\n",
       "    </tr>\n",
       "    <tr>\n",
       "      <th>2</th>\n",
       "      <td>Mujeeb Ur Rahman</td>\n",
       "      <td>AFG</td>\n",
       "      <td>708</td>\n",
       "    </tr>\n",
       "    <tr>\n",
       "      <th>3</th>\n",
       "      <td>Chris Woakes</td>\n",
       "      <td>ENG</td>\n",
       "      <td>700</td>\n",
       "    </tr>\n",
       "    <tr>\n",
       "      <th>4</th>\n",
       "      <td>Mehedi Hasan</td>\n",
       "      <td>BAN</td>\n",
       "      <td>692</td>\n",
       "    </tr>\n",
       "    <tr>\n",
       "      <th>5</th>\n",
       "      <td>Matt Henry</td>\n",
       "      <td>NZ</td>\n",
       "      <td>691</td>\n",
       "    </tr>\n",
       "    <tr>\n",
       "      <th>6</th>\n",
       "      <td>Jasprit Bumrah</td>\n",
       "      <td>IND</td>\n",
       "      <td>679</td>\n",
       "    </tr>\n",
       "    <tr>\n",
       "      <th>7</th>\n",
       "      <td>Mitchell Starc</td>\n",
       "      <td>AUS</td>\n",
       "      <td>652</td>\n",
       "    </tr>\n",
       "    <tr>\n",
       "      <th>8</th>\n",
       "      <td>Shakib Al Hasan</td>\n",
       "      <td>BAN</td>\n",
       "      <td>650</td>\n",
       "    </tr>\n",
       "    <tr>\n",
       "      <th>9</th>\n",
       "      <td>Kagiso Rabada</td>\n",
       "      <td>SA</td>\n",
       "      <td>648</td>\n",
       "    </tr>\n",
       "  </tbody>\n",
       "</table>\n",
       "</div>"
      ],
      "text/plain": [
       "             Bowler Country Player_rating\n",
       "0       Trent Boult      NZ           737\n",
       "1    Josh Hazlewood     AUS           709\n",
       "2  Mujeeb Ur Rahman     AFG           708\n",
       "3      Chris Woakes     ENG           700\n",
       "4      Mehedi Hasan     BAN           692\n",
       "5        Matt Henry      NZ           691\n",
       "6    Jasprit Bumrah     IND           679\n",
       "7    Mitchell Starc     AUS           652\n",
       "8   Shakib Al Hasan     BAN           650\n",
       "9     Kagiso Rabada      SA           648"
      ]
     },
     "execution_count": 66,
     "metadata": {},
     "output_type": "execute_result"
    }
   ],
   "source": [
    "TopODI_bowler=pd.DataFrame({})\n",
    "TopODI_bowler['Bowler']=Bowler[:10]\n",
    "TopODI_bowler['Country']=Country[:10]\n",
    "TopODI_bowler['Player_rating']=Player_rating[:10]\n",
    "TopODI_bowler"
   ]
  },
  {
   "cell_type": "code",
   "execution_count": null,
   "id": "176fb114",
   "metadata": {},
   "outputs": [],
   "source": []
  },
  {
   "cell_type": "code",
   "execution_count": null,
   "id": "de5d524b",
   "metadata": {},
   "outputs": [],
   "source": []
  },
  {
   "cell_type": "markdown",
   "id": "cadb9d82",
   "metadata": {},
   "source": [
    "#6. Write a python program to scrape cricket rankings from ‘www.icc-cricket.com’. You have to scrape:-\n",
    "\n",
    "   #i) Top 10 ODI teams in women’s cricket along with the records for matches, points and rating.\n",
    "\n",
    "   #ii) Top 10 women’s ODI players along with the records of their team and rating.\n",
    "\n",
    "   #iii) Top 10 women’s ODI all-rounder along with the records of their team and rating."
   ]
  },
  {
   "cell_type": "code",
   "execution_count": null,
   "id": "c2304dd2",
   "metadata": {},
   "outputs": [],
   "source": []
  },
  {
   "cell_type": "code",
   "execution_count": null,
   "id": "7a13d54f",
   "metadata": {},
   "outputs": [],
   "source": []
  },
  {
   "cell_type": "markdown",
   "id": "d988d8b4",
   "metadata": {},
   "source": [
    "#i) Top 10 ODI teams in women’s cricket along with the records for matches, points and rating."
   ]
  },
  {
   "cell_type": "code",
   "execution_count": null,
   "id": "32ad960a",
   "metadata": {},
   "outputs": [],
   "source": []
  },
  {
   "cell_type": "code",
   "execution_count": 67,
   "id": "dfca214d",
   "metadata": {},
   "outputs": [
    {
     "data": {
      "text/plain": [
       "<Response [200]>"
      ]
     },
     "execution_count": 67,
     "metadata": {},
     "output_type": "execute_result"
    }
   ],
   "source": [
    "page=requests.get('https://www.icc-cricket.com/rankings/womens/team-rankings/odi')\n",
    "page"
   ]
  },
  {
   "cell_type": "code",
   "execution_count": 68,
   "id": "76e2e959",
   "metadata": {},
   "outputs": [],
   "source": [
    "soup=BeautifulSoup(page.content)"
   ]
  },
  {
   "cell_type": "code",
   "execution_count": 69,
   "id": "8cf0a292",
   "metadata": {},
   "outputs": [],
   "source": [
    "country=soup.find_all('span',class_='u-hide-phablet')\n",
    "Country=[] #empty list\n",
    "for i in country:\n",
    "    Country.append(i.text.replace('\\n',' '))\n",
    "    "
   ]
  },
  {
   "cell_type": "code",
   "execution_count": 70,
   "id": "681b5804",
   "metadata": {},
   "outputs": [],
   "source": [
    "team_match=soup.find_all('td',class_='table-body__cell u-center-text')\n",
    "Team_matches=[]\n",
    "Team_points=[]\n",
    "j=0\n",
    "Team_matches.append(soup.find('td',class_='rankings-block__banner--matches').text)\n",
    "Team_points.append(soup.find('td',class_='rankings-block__banner--points').text)\n",
    "for i in team_match:\n",
    "    if j==0 or j%2==0:\n",
    "        Team_matches.append(i.text.replace('\\n',''))\n",
    "    else:\n",
    "        Team_points.append(i.text.replace('\\n',''))\n",
    "    j+=1\n",
    "    \n"
   ]
  },
  {
   "cell_type": "code",
   "execution_count": 71,
   "id": "390ef196",
   "metadata": {},
   "outputs": [],
   "source": [
    "rating=soup.find_all('td',class_='table-body__cell u-text-right rating')\n",
    "Team_rating=[]\n",
    "Team_rating.append(soup.find('td',class_='rankings-block__banner--rating u-text-right').text.replace('\\n','').replace(' ',''))\n",
    "for i in rating:\n",
    "    Team_rating.append(i.text.replace('\\n','').replace(' ',''))"
   ]
  },
  {
   "cell_type": "code",
   "execution_count": 72,
   "id": "511fd2a0",
   "metadata": {},
   "outputs": [
    {
     "data": {
      "text/html": [
       "<div>\n",
       "<style scoped>\n",
       "    .dataframe tbody tr th:only-of-type {\n",
       "        vertical-align: middle;\n",
       "    }\n",
       "\n",
       "    .dataframe tbody tr th {\n",
       "        vertical-align: top;\n",
       "    }\n",
       "\n",
       "    .dataframe thead th {\n",
       "        text-align: right;\n",
       "    }\n",
       "</style>\n",
       "<table border=\"1\" class=\"dataframe\">\n",
       "  <thead>\n",
       "    <tr style=\"text-align: right;\">\n",
       "      <th></th>\n",
       "      <th>Country</th>\n",
       "      <th>Matches</th>\n",
       "      <th>Team_points</th>\n",
       "      <th>Team_rating</th>\n",
       "    </tr>\n",
       "  </thead>\n",
       "  <tbody>\n",
       "    <tr>\n",
       "      <th>0</th>\n",
       "      <td>Australia</td>\n",
       "      <td>18</td>\n",
       "      <td>2,955</td>\n",
       "      <td>164</td>\n",
       "    </tr>\n",
       "    <tr>\n",
       "      <th>1</th>\n",
       "      <td>England</td>\n",
       "      <td>20</td>\n",
       "      <td>2,370</td>\n",
       "      <td>119</td>\n",
       "    </tr>\n",
       "    <tr>\n",
       "      <th>2</th>\n",
       "      <td>South Africa</td>\n",
       "      <td>24</td>\n",
       "      <td>2,828</td>\n",
       "      <td>118</td>\n",
       "    </tr>\n",
       "    <tr>\n",
       "      <th>3</th>\n",
       "      <td>India</td>\n",
       "      <td>23</td>\n",
       "      <td>2,535</td>\n",
       "      <td>110</td>\n",
       "    </tr>\n",
       "    <tr>\n",
       "      <th>4</th>\n",
       "      <td>New Zealand</td>\n",
       "      <td>21</td>\n",
       "      <td>1,947</td>\n",
       "      <td>93</td>\n",
       "    </tr>\n",
       "    <tr>\n",
       "      <th>5</th>\n",
       "      <td>West Indies</td>\n",
       "      <td>17</td>\n",
       "      <td>1,427</td>\n",
       "      <td>84</td>\n",
       "    </tr>\n",
       "    <tr>\n",
       "      <th>6</th>\n",
       "      <td>Pakistan</td>\n",
       "      <td>20</td>\n",
       "      <td>1,496</td>\n",
       "      <td>75</td>\n",
       "    </tr>\n",
       "    <tr>\n",
       "      <th>7</th>\n",
       "      <td>Bangladesh</td>\n",
       "      <td>5</td>\n",
       "      <td>306</td>\n",
       "      <td>61</td>\n",
       "    </tr>\n",
       "    <tr>\n",
       "      <th>8</th>\n",
       "      <td>Sri Lanka</td>\n",
       "      <td>11</td>\n",
       "      <td>519</td>\n",
       "      <td>47</td>\n",
       "    </tr>\n",
       "    <tr>\n",
       "      <th>9</th>\n",
       "      <td>Ireland</td>\n",
       "      <td>2</td>\n",
       "      <td>25</td>\n",
       "      <td>13</td>\n",
       "    </tr>\n",
       "  </tbody>\n",
       "</table>\n",
       "</div>"
      ],
      "text/plain": [
       "        Country Matches Team_points Team_rating\n",
       "0     Australia      18       2,955         164\n",
       "1       England      20       2,370         119\n",
       "2  South Africa      24       2,828         118\n",
       "3         India      23       2,535         110\n",
       "4   New Zealand      21       1,947          93\n",
       "5   West Indies      17       1,427          84\n",
       "6      Pakistan      20       1,496          75\n",
       "7    Bangladesh       5         306          61\n",
       "8     Sri Lanka      11         519          47\n",
       "9       Ireland       2          25          13"
      ]
     },
     "execution_count": 72,
     "metadata": {},
     "output_type": "execute_result"
    }
   ],
   "source": [
    "WomanTop_ODIteam=pd.DataFrame({})\n",
    "WomanTop_ODIteam['Country']=Country[:10]\n",
    "WomanTop_ODIteam['Matches']=Team_matches[:10]\n",
    "WomanTop_ODIteam['Team_points']=Team_points[:10]\n",
    "WomanTop_ODIteam['Team_rating']=Team_rating[:10]\n",
    "WomanTop_ODIteam"
   ]
  },
  {
   "cell_type": "code",
   "execution_count": null,
   "id": "823b530b",
   "metadata": {},
   "outputs": [],
   "source": []
  },
  {
   "cell_type": "markdown",
   "id": "103b02a2",
   "metadata": {},
   "source": [
    "#ii) Top 10 women’s ODI players along with the records of their team and rating."
   ]
  },
  {
   "cell_type": "code",
   "execution_count": null,
   "id": "1a5274d2",
   "metadata": {},
   "outputs": [],
   "source": []
  },
  {
   "cell_type": "code",
   "execution_count": 73,
   "id": "11a3b6e1",
   "metadata": {},
   "outputs": [
    {
     "data": {
      "text/plain": [
       "<Response [200]>"
      ]
     },
     "execution_count": 73,
     "metadata": {},
     "output_type": "execute_result"
    }
   ],
   "source": [
    "page=requests.get('https://www.icc-cricket.com/rankings/womens/player-rankings/odi/batting')\n",
    "page"
   ]
  },
  {
   "cell_type": "code",
   "execution_count": 74,
   "id": "bba5e4ad",
   "metadata": {},
   "outputs": [],
   "source": [
    "soup=BeautifulSoup(page.content)"
   ]
  },
  {
   "cell_type": "code",
   "execution_count": 75,
   "id": "9807a152",
   "metadata": {},
   "outputs": [],
   "source": [
    "player=soup.find_all('td',class_='table-body__cell rankings-table__name name')\n",
    "Player=[]\n",
    "Player.append(soup.find('div',class_='rankings-block__banner--name-large').text.replace('\\n',''))\n",
    "for i in player:\n",
    "    for j in i.find_all('a'):\n",
    "        Player.append(j.text.replace('\\n',' '))\n",
    "        "
   ]
  },
  {
   "cell_type": "code",
   "execution_count": 76,
   "id": "f10e619a",
   "metadata": {},
   "outputs": [],
   "source": [
    "rating=soup.find_all('td',class_='table-body__cell rating')\n",
    "Rating=[]\n",
    "Rating.append(soup.find('div',class_='rankings-block__banner--rating').text.replace('\\n','').replace(' ',''))\n",
    "for i in rating:\n",
    "    Rating.append(i.text.replace('\\n','').replace(' ',''))"
   ]
  },
  {
   "cell_type": "code",
   "execution_count": 77,
   "id": "8165180e",
   "metadata": {},
   "outputs": [],
   "source": [
    "country=soup.find_all('span',class_='table-body__logo-text')\n",
    "Country=[]\n",
    "Country.append(soup.find('div',class_='rankings-block__banner--nationality').text.replace('\\n','').strip())\n",
    "for i in country:\n",
    "    Country.append(i.text.replace('\\n',''))\n"
   ]
  },
  {
   "cell_type": "code",
   "execution_count": 78,
   "id": "350ec467",
   "metadata": {},
   "outputs": [
    {
     "data": {
      "text/html": [
       "<div>\n",
       "<style scoped>\n",
       "    .dataframe tbody tr th:only-of-type {\n",
       "        vertical-align: middle;\n",
       "    }\n",
       "\n",
       "    .dataframe tbody tr th {\n",
       "        vertical-align: top;\n",
       "    }\n",
       "\n",
       "    .dataframe thead th {\n",
       "        text-align: right;\n",
       "    }\n",
       "</style>\n",
       "<table border=\"1\" class=\"dataframe\">\n",
       "  <thead>\n",
       "    <tr style=\"text-align: right;\">\n",
       "      <th></th>\n",
       "      <th>Player</th>\n",
       "      <th>Country</th>\n",
       "      <th>Rating</th>\n",
       "    </tr>\n",
       "  </thead>\n",
       "  <tbody>\n",
       "    <tr>\n",
       "      <th>0</th>\n",
       "      <td>Mithali Raj</td>\n",
       "      <td>IND</td>\n",
       "      <td>762</td>\n",
       "    </tr>\n",
       "    <tr>\n",
       "      <th>1</th>\n",
       "      <td>Lizelle Lee</td>\n",
       "      <td>SA</td>\n",
       "      <td>758</td>\n",
       "    </tr>\n",
       "    <tr>\n",
       "      <th>2</th>\n",
       "      <td>Alyssa Healy</td>\n",
       "      <td>AUS</td>\n",
       "      <td>756</td>\n",
       "    </tr>\n",
       "    <tr>\n",
       "      <th>3</th>\n",
       "      <td>Tammy Beaumont</td>\n",
       "      <td>ENG</td>\n",
       "      <td>754</td>\n",
       "    </tr>\n",
       "    <tr>\n",
       "      <th>4</th>\n",
       "      <td>Stafanie Taylor</td>\n",
       "      <td>WI</td>\n",
       "      <td>736</td>\n",
       "    </tr>\n",
       "    <tr>\n",
       "      <th>5</th>\n",
       "      <td>Meg Lanning</td>\n",
       "      <td>AUS</td>\n",
       "      <td>723</td>\n",
       "    </tr>\n",
       "    <tr>\n",
       "      <th>6</th>\n",
       "      <td>Amy Satterthwaite</td>\n",
       "      <td>NZ</td>\n",
       "      <td>715</td>\n",
       "    </tr>\n",
       "    <tr>\n",
       "      <th>7</th>\n",
       "      <td>Natalie Sciver</td>\n",
       "      <td>ENG</td>\n",
       "      <td>706</td>\n",
       "    </tr>\n",
       "    <tr>\n",
       "      <th>8</th>\n",
       "      <td>Smriti Mandhana</td>\n",
       "      <td>IND</td>\n",
       "      <td>701</td>\n",
       "    </tr>\n",
       "    <tr>\n",
       "      <th>9</th>\n",
       "      <td>Laura Wolvaardt</td>\n",
       "      <td>SA</td>\n",
       "      <td>683</td>\n",
       "    </tr>\n",
       "  </tbody>\n",
       "</table>\n",
       "</div>"
      ],
      "text/plain": [
       "              Player Country Rating\n",
       "0        Mithali Raj     IND    762\n",
       "1        Lizelle Lee      SA    758\n",
       "2       Alyssa Healy     AUS    756\n",
       "3     Tammy Beaumont     ENG    754\n",
       "4    Stafanie Taylor      WI    736\n",
       "5        Meg Lanning     AUS    723\n",
       "6  Amy Satterthwaite      NZ    715\n",
       "7     Natalie Sciver     ENG    706\n",
       "8    Smriti Mandhana     IND    701\n",
       "9    Laura Wolvaardt      SA    683"
      ]
     },
     "execution_count": 78,
     "metadata": {},
     "output_type": "execute_result"
    }
   ],
   "source": [
    "Woman_TopODIbatsman=pd.DataFrame({})\n",
    "Woman_TopODIbatsman['Player']=Player[:10]\n",
    "Woman_TopODIbatsman['Country']=Country[:10]\n",
    "Woman_TopODIbatsman['Rating']=Rating[:10]\n",
    "Woman_TopODIbatsman"
   ]
  },
  {
   "cell_type": "code",
   "execution_count": null,
   "id": "0ed0fade",
   "metadata": {},
   "outputs": [],
   "source": []
  },
  {
   "cell_type": "code",
   "execution_count": null,
   "id": "dda32116",
   "metadata": {},
   "outputs": [],
   "source": []
  },
  {
   "cell_type": "markdown",
   "id": "58b4b45c",
   "metadata": {},
   "source": [
    "#iii) Top 10 women’s ODI all-rounder along with the records of their team and rating."
   ]
  },
  {
   "cell_type": "code",
   "execution_count": null,
   "id": "49be0bf6",
   "metadata": {},
   "outputs": [],
   "source": []
  },
  {
   "cell_type": "code",
   "execution_count": 79,
   "id": "1e832206",
   "metadata": {},
   "outputs": [
    {
     "data": {
      "text/plain": [
       "<Response [200]>"
      ]
     },
     "execution_count": 79,
     "metadata": {},
     "output_type": "execute_result"
    }
   ],
   "source": [
    "page=requests.get('https://www.icc-cricket.com/rankings/womens/player-rankings/odi/all-rounder')\n",
    "page"
   ]
  },
  {
   "cell_type": "code",
   "execution_count": 80,
   "id": "a5c944f5",
   "metadata": {},
   "outputs": [],
   "source": [
    "soup=BeautifulSoup(page.content)"
   ]
  },
  {
   "cell_type": "code",
   "execution_count": 81,
   "id": "a3177594",
   "metadata": {},
   "outputs": [],
   "source": [
    "player=soup.find_all('td',class_='table-body__cell rankings-table__name name')\n",
    "Player=[]\n",
    "Player.append(soup.find('div',class_='rankings-block__banner--name-large').text.replace('\\n',''))\n",
    "for i in player:\n",
    "    for j in i.find_all('a'):\n",
    "        Player.append(j.text.replace('\\n',' '))"
   ]
  },
  {
   "cell_type": "code",
   "execution_count": 82,
   "id": "5370a0eb",
   "metadata": {},
   "outputs": [],
   "source": [
    "rating=soup.find_all('td',class_='table-body__cell rating')\n",
    "Player_rating=[]\n",
    "Player_rating.append(soup.find('div',class_='rankings-block__banner--rating').text.replace('\\n','').replace(' ',''))\n",
    "for i in rating:\n",
    "    Player_rating.append(i.text.replace('\\n','').replace(' ',''))"
   ]
  },
  {
   "cell_type": "code",
   "execution_count": 83,
   "id": "5c0dbe0a",
   "metadata": {},
   "outputs": [],
   "source": [
    "country=soup.find_all('span',class_='table-body__logo-text')\n",
    "Country=[]\n",
    "Country.append(soup.find('div',class_='rankings-block__banner--nationality').text.replace('\\n','').strip())\n",
    "for i in country:\n",
    "    Country.append(i.text.replace('\\n',''))"
   ]
  },
  {
   "cell_type": "code",
   "execution_count": 84,
   "id": "e1aa7135",
   "metadata": {},
   "outputs": [
    {
     "data": {
      "text/html": [
       "<div>\n",
       "<style scoped>\n",
       "    .dataframe tbody tr th:only-of-type {\n",
       "        vertical-align: middle;\n",
       "    }\n",
       "\n",
       "    .dataframe tbody tr th {\n",
       "        vertical-align: top;\n",
       "    }\n",
       "\n",
       "    .dataframe thead th {\n",
       "        text-align: right;\n",
       "    }\n",
       "</style>\n",
       "<table border=\"1\" class=\"dataframe\">\n",
       "  <thead>\n",
       "    <tr style=\"text-align: right;\">\n",
       "      <th></th>\n",
       "      <th>Player</th>\n",
       "      <th>Country</th>\n",
       "      <th>Player_rating</th>\n",
       "    </tr>\n",
       "  </thead>\n",
       "  <tbody>\n",
       "    <tr>\n",
       "      <th>0</th>\n",
       "      <td>Marizanne Kapp</td>\n",
       "      <td>SA</td>\n",
       "      <td>418</td>\n",
       "    </tr>\n",
       "    <tr>\n",
       "      <th>1</th>\n",
       "      <td>Ellyse Perry</td>\n",
       "      <td>AUS</td>\n",
       "      <td>418</td>\n",
       "    </tr>\n",
       "    <tr>\n",
       "      <th>2</th>\n",
       "      <td>Stafanie Taylor</td>\n",
       "      <td>WI</td>\n",
       "      <td>394</td>\n",
       "    </tr>\n",
       "    <tr>\n",
       "      <th>3</th>\n",
       "      <td>Natalie Sciver</td>\n",
       "      <td>ENG</td>\n",
       "      <td>365</td>\n",
       "    </tr>\n",
       "    <tr>\n",
       "      <th>4</th>\n",
       "      <td>Deepti Sharma</td>\n",
       "      <td>IND</td>\n",
       "      <td>331</td>\n",
       "    </tr>\n",
       "    <tr>\n",
       "      <th>5</th>\n",
       "      <td>Jess Jonassen</td>\n",
       "      <td>AUS</td>\n",
       "      <td>307</td>\n",
       "    </tr>\n",
       "    <tr>\n",
       "      <th>6</th>\n",
       "      <td>Ashleigh Gardner</td>\n",
       "      <td>AUS</td>\n",
       "      <td>252</td>\n",
       "    </tr>\n",
       "    <tr>\n",
       "      <th>7</th>\n",
       "      <td>Dane van Niekerk</td>\n",
       "      <td>SA</td>\n",
       "      <td>243</td>\n",
       "    </tr>\n",
       "    <tr>\n",
       "      <th>8</th>\n",
       "      <td>Sophie Devine</td>\n",
       "      <td>NZ</td>\n",
       "      <td>242</td>\n",
       "    </tr>\n",
       "    <tr>\n",
       "      <th>9</th>\n",
       "      <td>Katherine Brunt</td>\n",
       "      <td>ENG</td>\n",
       "      <td>239</td>\n",
       "    </tr>\n",
       "  </tbody>\n",
       "</table>\n",
       "</div>"
      ],
      "text/plain": [
       "             Player Country Player_rating\n",
       "0    Marizanne Kapp      SA           418\n",
       "1      Ellyse Perry     AUS           418\n",
       "2   Stafanie Taylor      WI           394\n",
       "3    Natalie Sciver     ENG           365\n",
       "4     Deepti Sharma     IND           331\n",
       "5     Jess Jonassen     AUS           307\n",
       "6  Ashleigh Gardner     AUS           252\n",
       "7  Dane van Niekerk      SA           243\n",
       "8     Sophie Devine      NZ           242\n",
       "9   Katherine Brunt     ENG           239"
      ]
     },
     "execution_count": 84,
     "metadata": {},
     "output_type": "execute_result"
    }
   ],
   "source": [
    "Woman_TopODIallrounder=pd.DataFrame({})\n",
    "Woman_TopODIallrounder['Player']=Player[:10]\n",
    "Woman_TopODIallrounder['Country']=Country[:10]\n",
    "Woman_TopODIallrounder['Player_rating']=Player_rating[:10]\n",
    "Woman_TopODIallrounder"
   ]
  },
  {
   "cell_type": "code",
   "execution_count": null,
   "id": "4f3389fa",
   "metadata": {},
   "outputs": [],
   "source": []
  },
  {
   "cell_type": "code",
   "execution_count": null,
   "id": "5b836654",
   "metadata": {},
   "outputs": [],
   "source": []
  },
  {
   "cell_type": "markdown",
   "id": "98061132",
   "metadata": {},
   "source": [
    "#7. Write a python program to scrape details of all the mobile phones under Rs. 20,000 listed on Amazon.in.\n",
    "\n",
    "#The scraped data should include Product Name, Price, Image URL and Average Rating"
   ]
  },
  {
   "cell_type": "code",
   "execution_count": null,
   "id": "d86cd22f",
   "metadata": {},
   "outputs": [],
   "source": []
  },
  {
   "cell_type": "code",
   "execution_count": 148,
   "id": "901ce43a",
   "metadata": {},
   "outputs": [
    {
     "data": {
      "text/plain": [
       "<Response [200]>"
      ]
     },
     "execution_count": 148,
     "metadata": {},
     "output_type": "execute_result"
    }
   ],
   "source": [
    "page=requests.get('https://www.amazon.in/s?i=electronics&bbn=1389432031&rh=n%3A1389432031%2Cp_36%3A-2000000&dc&qid=1627338005&rnid=1318502031&ref=sr_nr_p_36_1')\n",
    "page"
   ]
  },
  {
   "cell_type": "code",
   "execution_count": 149,
   "id": "d631eeb3",
   "metadata": {},
   "outputs": [],
   "source": [
    "soup=BeautifulSoup(page.content)"
   ]
  },
  {
   "cell_type": "code",
   "execution_count": 150,
   "id": "7aea319d",
   "metadata": {},
   "outputs": [],
   "source": [
    "name = soup.find_all('div',class_='a-section a-spacing-none a-spacing-top-small')"
   ]
  },
  {
   "cell_type": "code",
   "execution_count": 151,
   "id": "a19b9c1b",
   "metadata": {},
   "outputs": [],
   "source": [
    "Product_name = [] #empty list\n",
    "\n",
    "for i in name:\n",
    "    Product_name.append(i.text)"
   ]
  },
  {
   "cell_type": "code",
   "execution_count": 152,
   "id": "122a9274",
   "metadata": {},
   "outputs": [],
   "source": [
    "Product_name=[]\n",
    "for i in name:\n",
    "    for j in i.find_all('span',class_='a-size-base-plus a-color-base a-text-normal'):\n",
    "        Product_name.append(j.text.replace('\\n',' '))"
   ]
  },
  {
   "cell_type": "code",
   "execution_count": 153,
   "id": "ba11c849",
   "metadata": {},
   "outputs": [],
   "source": [
    "price=soup.find_all('span',class_='a-price-whole')"
   ]
  },
  {
   "cell_type": "code",
   "execution_count": 154,
   "id": "dd6c89ca",
   "metadata": {},
   "outputs": [],
   "source": [
    "Price=[]\n",
    "for i in price:\n",
    "    Price.append(i.text.replace('\\n',' '))"
   ]
  },
  {
   "cell_type": "code",
   "execution_count": 155,
   "id": "3be3d78b",
   "metadata": {},
   "outputs": [],
   "source": [
    "rating=soup.find_all('span',class_='a-icon-alt')"
   ]
  },
  {
   "cell_type": "code",
   "execution_count": 156,
   "id": "1a7fa086",
   "metadata": {},
   "outputs": [],
   "source": [
    "Rating=[]\n",
    "for i in rating:\n",
    "    Rating.append(i.text.replace('\\n',''))"
   ]
  },
  {
   "cell_type": "code",
   "execution_count": 157,
   "id": "199b563f",
   "metadata": {},
   "outputs": [],
   "source": [
    "url=soup.find_all('img')\n",
    "Image=[]\n",
    "for i in url:\n",
    "    Image.append(i['src'])"
   ]
  },
  {
   "cell_type": "code",
   "execution_count": 159,
   "id": "bd919d5a",
   "metadata": {},
   "outputs": [
    {
     "data": {
      "text/html": [
       "<div>\n",
       "<style scoped>\n",
       "    .dataframe tbody tr th:only-of-type {\n",
       "        vertical-align: middle;\n",
       "    }\n",
       "\n",
       "    .dataframe tbody tr th {\n",
       "        vertical-align: top;\n",
       "    }\n",
       "\n",
       "    .dataframe thead th {\n",
       "        text-align: right;\n",
       "    }\n",
       "</style>\n",
       "<table border=\"1\" class=\"dataframe\">\n",
       "  <thead>\n",
       "    <tr style=\"text-align: right;\">\n",
       "      <th></th>\n",
       "      <th>Product_name</th>\n",
       "      <th>Price</th>\n",
       "      <th>Rating</th>\n",
       "      <th>Image-url</th>\n",
       "    </tr>\n",
       "  </thead>\n",
       "  <tbody>\n",
       "    <tr>\n",
       "      <th>0</th>\n",
       "      <td>Redmi 9 Power (Mighty Black 4GB RAM 64GB Stora...</td>\n",
       "      <td>[10,999]</td>\n",
       "      <td>4.2 out of 5 stars</td>\n",
       "      <td>https://images-eu.ssl-images-amazon.com/images...</td>\n",
       "    </tr>\n",
       "    <tr>\n",
       "      <th>1</th>\n",
       "      <td>Redmi Note 10 (Aqua Green, 4GB RAM, 64GB Stora...</td>\n",
       "      <td>[13,499]</td>\n",
       "      <td>4.1 out of 5 stars</td>\n",
       "      <td>https://images-eu.ssl-images-amazon.com/images...</td>\n",
       "    </tr>\n",
       "    <tr>\n",
       "      <th>2</th>\n",
       "      <td>Redmi 9A (Nature Green, 2GB RAM, 32GB Storage)...</td>\n",
       "      <td>[6,999]</td>\n",
       "      <td>4.2 out of 5 stars</td>\n",
       "      <td>https://images-eu.ssl-images-amazon.com/images...</td>\n",
       "    </tr>\n",
       "    <tr>\n",
       "      <th>3</th>\n",
       "      <td>Redmi 9 Power (Blazing Blue, 4GB RAM, 64GB Sto...</td>\n",
       "      <td>[10,999]</td>\n",
       "      <td>4.2 out of 5 stars</td>\n",
       "      <td>https://m.media-amazon.com/images/I/71hEzQGO5q...</td>\n",
       "    </tr>\n",
       "    <tr>\n",
       "      <th>4</th>\n",
       "      <td>Redmi 9A (Midnight Black, 2GB RAM, 32GB Storag...</td>\n",
       "      <td>[6,999]</td>\n",
       "      <td>4.2 out of 5 stars</td>\n",
       "      <td>https://m.media-amazon.com/images/I/810GQ7CWdD...</td>\n",
       "    </tr>\n",
       "    <tr>\n",
       "      <th>5</th>\n",
       "      <td>Samsung Galaxy M21 2021 Edition (Charcoal Blac...</td>\n",
       "      <td>[12,999]</td>\n",
       "      <td>4.2 out of 5 stars</td>\n",
       "      <td>https://m.media-amazon.com/images/I/71sxlhYhKW...</td>\n",
       "    </tr>\n",
       "    <tr>\n",
       "      <th>6</th>\n",
       "      <td>Samsung Galaxy M21 2021 Edition (Arctic Blue, ...</td>\n",
       "      <td>[12,999]</td>\n",
       "      <td>4.2 out of 5 stars</td>\n",
       "      <td>https://m.media-amazon.com/images/I/71hEzQGO5q...</td>\n",
       "    </tr>\n",
       "    <tr>\n",
       "      <th>7</th>\n",
       "      <td>Redmi Note 10 (Shadow Black, 4GB RAM, 64GB Sto...</td>\n",
       "      <td>[13,499]</td>\n",
       "      <td>4.1 out of 5 stars</td>\n",
       "      <td>https://m.media-amazon.com/images/I/71sxlhYhKW...</td>\n",
       "    </tr>\n",
       "    <tr>\n",
       "      <th>8</th>\n",
       "      <td>realme C11 (2021) (Cool Grey, 2GB RAM, 32GB St...</td>\n",
       "      <td>[6,999]</td>\n",
       "      <td>4.1 out of 5 stars</td>\n",
       "      <td>https://m.media-amazon.com/images/I/712+A5mH44...</td>\n",
       "    </tr>\n",
       "    <tr>\n",
       "      <th>9</th>\n",
       "      <td>Redmi 9A (Sea Blue 2GB RAM 32GB Storage) | 2GH...</td>\n",
       "      <td>[6,999]</td>\n",
       "      <td>4.2 out of 5 stars</td>\n",
       "      <td>https://m.media-amazon.com/images/I/71hEzQGO5q...</td>\n",
       "    </tr>\n",
       "    <tr>\n",
       "      <th>10</th>\n",
       "      <td>Redmi Note 10 Pro (Dark Night, 6GB RAM, 128GB ...</td>\n",
       "      <td>[17,999]</td>\n",
       "      <td>4.2 out of 5 stars</td>\n",
       "      <td>https://m.media-amazon.com/images/I/810GQ7CWdD...</td>\n",
       "    </tr>\n",
       "    <tr>\n",
       "      <th>11</th>\n",
       "      <td>Redmi Note 10 Pro (Glacial Blue, 6GB RAM, 128G...</td>\n",
       "      <td>[17,999]</td>\n",
       "      <td>4.2 out of 5 stars</td>\n",
       "      <td>https://m.media-amazon.com/images/I/71sxlhYhKW...</td>\n",
       "    </tr>\n",
       "    <tr>\n",
       "      <th>12</th>\n",
       "      <td>Redmi Note 10S (Shadow Black, 6GB RAM, 64GB St...</td>\n",
       "      <td>[14,999]</td>\n",
       "      <td>4.1 out of 5 stars</td>\n",
       "      <td>https://m.media-amazon.com/images/I/71hEzQGO5q...</td>\n",
       "    </tr>\n",
       "    <tr>\n",
       "      <th>13</th>\n",
       "      <td>Redmi 9 (Sporty Orange, 4GB RAM, 64GB Storage)...</td>\n",
       "      <td>[12,490]</td>\n",
       "      <td>4.2 out of 5 stars</td>\n",
       "      <td>https://m.media-amazon.com/images/I/71sxlhYhKW...</td>\n",
       "    </tr>\n",
       "    <tr>\n",
       "      <th>14</th>\n",
       "      <td>Oppo A31 (Fantasy White, 6GB RAM, 128GB Storag...</td>\n",
       "      <td>[14,999]</td>\n",
       "      <td>4.2 out of 5 stars</td>\n",
       "      <td>https://m.media-amazon.com/images/I/712+A5mH44...</td>\n",
       "    </tr>\n",
       "    <tr>\n",
       "      <th>15</th>\n",
       "      <td>Redmi Note 10S (Deep Sea Blue, 6GB RAM, 64GB S...</td>\n",
       "      <td>[10,499]</td>\n",
       "      <td>4.1 out of 5 stars</td>\n",
       "      <td>https://m.media-amazon.com/images/I/811lrGbXwI...</td>\n",
       "    </tr>\n",
       "    <tr>\n",
       "      <th>16</th>\n",
       "      <td>Samsung Galaxy M02s (Black,4GB RAM, 64GB Stora...</td>\n",
       "      <td>[13,499]</td>\n",
       "      <td>4.1 out of 5 stars</td>\n",
       "      <td>https://m.media-amazon.com/images/I/81vixbGM2E...</td>\n",
       "    </tr>\n",
       "    <tr>\n",
       "      <th>17</th>\n",
       "      <td>Redmi 9 Power (Blazing Blue, 6GB RAM, 128GB St...</td>\n",
       "      <td>[10,999]</td>\n",
       "      <td>4.2 out of 5 stars</td>\n",
       "      <td>https://m.media-amazon.com/images/I/618UBhFmaQ...</td>\n",
       "    </tr>\n",
       "    <tr>\n",
       "      <th>18</th>\n",
       "      <td>Redmi 9 Power (Fiery Red, 4GB RAM, 64GB Storag...</td>\n",
       "      <td>[10,990]</td>\n",
       "      <td>4.2 out of 5 stars</td>\n",
       "      <td>https://m.media-amazon.com/images/I/71sxlhYhKW...</td>\n",
       "    </tr>\n",
       "    <tr>\n",
       "      <th>19</th>\n",
       "      <td>OPPO A31 (Mystery Black, 4GB RAM, 64GB Storage...</td>\n",
       "      <td>[14,999]</td>\n",
       "      <td>4.2 out of 5 stars</td>\n",
       "      <td>https://m.media-amazon.com/images/I/81S-XYJlzT...</td>\n",
       "    </tr>\n",
       "    <tr>\n",
       "      <th>20</th>\n",
       "      <td>Redmi Note 10S (Cosmic Purple, 6GB RAM, 64 GB ...</td>\n",
       "      <td>[11,999]</td>\n",
       "      <td>4.1 out of 5 stars</td>\n",
       "      <td>https://m.media-amazon.com/images/I/81nndQAg2n...</td>\n",
       "    </tr>\n",
       "    <tr>\n",
       "      <th>21</th>\n",
       "      <td>Redmi Note 9 (Pebble Grey, 4GB RAM 64GB Storag...</td>\n",
       "      <td>[19,999]</td>\n",
       "      <td>4.3 out of 5 stars</td>\n",
       "      <td>https://m.media-amazon.com/images/I/81R9c74pmD...</td>\n",
       "    </tr>\n",
       "    <tr>\n",
       "      <th>22</th>\n",
       "      <td>Redmi Note 10 Pro Max (Dark Night, 6GB RAM, 12...</td>\n",
       "      <td>[11,999]</td>\n",
       "      <td>4.1 out of 5 stars</td>\n",
       "      <td>https://m.media-amazon.com/images/I/71A9Vo1Bat...</td>\n",
       "    </tr>\n",
       "  </tbody>\n",
       "</table>\n",
       "</div>"
      ],
      "text/plain": [
       "                                         Product_name     Price  \\\n",
       "0   Redmi 9 Power (Mighty Black 4GB RAM 64GB Stora...  [10,999]   \n",
       "1   Redmi Note 10 (Aqua Green, 4GB RAM, 64GB Stora...  [13,499]   \n",
       "2   Redmi 9A (Nature Green, 2GB RAM, 32GB Storage)...   [6,999]   \n",
       "3   Redmi 9 Power (Blazing Blue, 4GB RAM, 64GB Sto...  [10,999]   \n",
       "4   Redmi 9A (Midnight Black, 2GB RAM, 32GB Storag...   [6,999]   \n",
       "5   Samsung Galaxy M21 2021 Edition (Charcoal Blac...  [12,999]   \n",
       "6   Samsung Galaxy M21 2021 Edition (Arctic Blue, ...  [12,999]   \n",
       "7   Redmi Note 10 (Shadow Black, 4GB RAM, 64GB Sto...  [13,499]   \n",
       "8   realme C11 (2021) (Cool Grey, 2GB RAM, 32GB St...   [6,999]   \n",
       "9   Redmi 9A (Sea Blue 2GB RAM 32GB Storage) | 2GH...   [6,999]   \n",
       "10  Redmi Note 10 Pro (Dark Night, 6GB RAM, 128GB ...  [17,999]   \n",
       "11  Redmi Note 10 Pro (Glacial Blue, 6GB RAM, 128G...  [17,999]   \n",
       "12  Redmi Note 10S (Shadow Black, 6GB RAM, 64GB St...  [14,999]   \n",
       "13  Redmi 9 (Sporty Orange, 4GB RAM, 64GB Storage)...  [12,490]   \n",
       "14  Oppo A31 (Fantasy White, 6GB RAM, 128GB Storag...  [14,999]   \n",
       "15  Redmi Note 10S (Deep Sea Blue, 6GB RAM, 64GB S...  [10,499]   \n",
       "16  Samsung Galaxy M02s (Black,4GB RAM, 64GB Stora...  [13,499]   \n",
       "17  Redmi 9 Power (Blazing Blue, 6GB RAM, 128GB St...  [10,999]   \n",
       "18  Redmi 9 Power (Fiery Red, 4GB RAM, 64GB Storag...  [10,990]   \n",
       "19  OPPO A31 (Mystery Black, 4GB RAM, 64GB Storage...  [14,999]   \n",
       "20  Redmi Note 10S (Cosmic Purple, 6GB RAM, 64 GB ...  [11,999]   \n",
       "21  Redmi Note 9 (Pebble Grey, 4GB RAM 64GB Storag...  [19,999]   \n",
       "22  Redmi Note 10 Pro Max (Dark Night, 6GB RAM, 12...  [11,999]   \n",
       "\n",
       "                Rating                                          Image-url  \n",
       "0   4.2 out of 5 stars  https://images-eu.ssl-images-amazon.com/images...  \n",
       "1   4.1 out of 5 stars  https://images-eu.ssl-images-amazon.com/images...  \n",
       "2   4.2 out of 5 stars  https://images-eu.ssl-images-amazon.com/images...  \n",
       "3   4.2 out of 5 stars  https://m.media-amazon.com/images/I/71hEzQGO5q...  \n",
       "4   4.2 out of 5 stars  https://m.media-amazon.com/images/I/810GQ7CWdD...  \n",
       "5   4.2 out of 5 stars  https://m.media-amazon.com/images/I/71sxlhYhKW...  \n",
       "6   4.2 out of 5 stars  https://m.media-amazon.com/images/I/71hEzQGO5q...  \n",
       "7   4.1 out of 5 stars  https://m.media-amazon.com/images/I/71sxlhYhKW...  \n",
       "8   4.1 out of 5 stars  https://m.media-amazon.com/images/I/712+A5mH44...  \n",
       "9   4.2 out of 5 stars  https://m.media-amazon.com/images/I/71hEzQGO5q...  \n",
       "10  4.2 out of 5 stars  https://m.media-amazon.com/images/I/810GQ7CWdD...  \n",
       "11  4.2 out of 5 stars  https://m.media-amazon.com/images/I/71sxlhYhKW...  \n",
       "12  4.1 out of 5 stars  https://m.media-amazon.com/images/I/71hEzQGO5q...  \n",
       "13  4.2 out of 5 stars  https://m.media-amazon.com/images/I/71sxlhYhKW...  \n",
       "14  4.2 out of 5 stars  https://m.media-amazon.com/images/I/712+A5mH44...  \n",
       "15  4.1 out of 5 stars  https://m.media-amazon.com/images/I/811lrGbXwI...  \n",
       "16  4.1 out of 5 stars  https://m.media-amazon.com/images/I/81vixbGM2E...  \n",
       "17  4.2 out of 5 stars  https://m.media-amazon.com/images/I/618UBhFmaQ...  \n",
       "18  4.2 out of 5 stars  https://m.media-amazon.com/images/I/71sxlhYhKW...  \n",
       "19  4.2 out of 5 stars  https://m.media-amazon.com/images/I/81S-XYJlzT...  \n",
       "20  4.1 out of 5 stars  https://m.media-amazon.com/images/I/81nndQAg2n...  \n",
       "21  4.3 out of 5 stars  https://m.media-amazon.com/images/I/81R9c74pmD...  \n",
       "22  4.1 out of 5 stars  https://m.media-amazon.com/images/I/71A9Vo1Bat...  "
      ]
     },
     "execution_count": 159,
     "metadata": {},
     "output_type": "execute_result"
    }
   ],
   "source": [
    "Mobile_list=pd.DataFrame({})\n",
    "Mobile_list['Product_name']=Product_name[:23]\n",
    "Mobile_list['Price']=price[:23]\n",
    "Mobile_list['Rating']=Rating[:23]\n",
    "Mobile_list['Image-url']=Image[:23]\n",
    "Mobile_list"
   ]
  },
  {
   "cell_type": "code",
   "execution_count": null,
   "id": "6ec3041a",
   "metadata": {},
   "outputs": [],
   "source": []
  },
  {
   "cell_type": "code",
   "execution_count": null,
   "id": "b8aa3af8",
   "metadata": {},
   "outputs": [],
   "source": []
  },
  {
   "cell_type": "markdown",
   "id": "f4ad2216",
   "metadata": {},
   "source": [
    "#8. Write a python program to extract information about the local weather from the National Weather Service website of USA, https://www.weather.gov/ for the city, San Francisco.\n",
    "\n",
    "#You need to extract data about 7 day extended forecast display for the city.\n",
    "\n",
    "#The data should include period, short description, temperature and description."
   ]
  },
  {
   "cell_type": "code",
   "execution_count": null,
   "id": "1a3b9e4b",
   "metadata": {},
   "outputs": [],
   "source": []
  },
  {
   "cell_type": "code",
   "execution_count": 102,
   "id": "5a5e54cc",
   "metadata": {},
   "outputs": [
    {
     "data": {
      "text/plain": [
       "<Response [200]>"
      ]
     },
     "execution_count": 102,
     "metadata": {},
     "output_type": "execute_result"
    }
   ],
   "source": [
    "page=requests.get('https://forecast.weather.gov/MapClick.php?lat=37.777120000000025&lon=-122.41963999999996#.YP9HIrritPY')\n",
    "page"
   ]
  },
  {
   "cell_type": "code",
   "execution_count": 103,
   "id": "e1fde77e",
   "metadata": {},
   "outputs": [],
   "source": [
    "soup=BeautifulSoup(page.content)"
   ]
  },
  {
   "cell_type": "code",
   "execution_count": 104,
   "id": "5c6649e4",
   "metadata": {},
   "outputs": [],
   "source": [
    "period = soup.find_all(\"p\", class_=\"period-name\")"
   ]
  },
  {
   "cell_type": "code",
   "execution_count": 105,
   "id": "3e4c654c",
   "metadata": {},
   "outputs": [],
   "source": [
    "Period = [] #empty list\n",
    "\n",
    "for i in period:\n",
    "    Period.append(i.text)"
   ]
  },
  {
   "cell_type": "code",
   "execution_count": 106,
   "id": "2eba3097",
   "metadata": {},
   "outputs": [],
   "source": [
    "desc = soup.find_all(\"p\", class_=\"short-desc\")"
   ]
  },
  {
   "cell_type": "code",
   "execution_count": 107,
   "id": "94f1a9b5",
   "metadata": {},
   "outputs": [],
   "source": [
    "Short_description = [] #empty list\n",
    "\n",
    "for i in desc:\n",
    "    Short_description.append(i.text)"
   ]
  },
  {
   "cell_type": "code",
   "execution_count": 108,
   "id": "6354aac0",
   "metadata": {},
   "outputs": [],
   "source": [
    "temp = soup.find_all(\"p\", class_=\"temp\")"
   ]
  },
  {
   "cell_type": "code",
   "execution_count": 109,
   "id": "76a3a23a",
   "metadata": {},
   "outputs": [],
   "source": [
    "Temp = [] #empty list\n",
    "\n",
    "for i in temp:\n",
    "    Temp.append(i.text)"
   ]
  },
  {
   "cell_type": "code",
   "execution_count": 110,
   "id": "a384c92a",
   "metadata": {},
   "outputs": [],
   "source": [
    "forecast = soup.find_all(\"div\", class_=\"col-sm-10 forecast-text\")"
   ]
  },
  {
   "cell_type": "code",
   "execution_count": 111,
   "id": "8cb59e8a",
   "metadata": {},
   "outputs": [],
   "source": [
    "Detailed_forecast = [] #empty list\n",
    "\n",
    "for i in forecast:\n",
    "    Detailed_forecast.append(i.text)"
   ]
  },
  {
   "cell_type": "code",
   "execution_count": 112,
   "id": "0c0db3f2",
   "metadata": {},
   "outputs": [
    {
     "data": {
      "text/html": [
       "<div>\n",
       "<style scoped>\n",
       "    .dataframe tbody tr th:only-of-type {\n",
       "        vertical-align: middle;\n",
       "    }\n",
       "\n",
       "    .dataframe tbody tr th {\n",
       "        vertical-align: top;\n",
       "    }\n",
       "\n",
       "    .dataframe thead th {\n",
       "        text-align: right;\n",
       "    }\n",
       "</style>\n",
       "<table border=\"1\" class=\"dataframe\">\n",
       "  <thead>\n",
       "    <tr style=\"text-align: right;\">\n",
       "      <th></th>\n",
       "      <th>Period</th>\n",
       "      <th>Short_description</th>\n",
       "      <th>Temp</th>\n",
       "      <th>Detailed_forecast</th>\n",
       "    </tr>\n",
       "  </thead>\n",
       "  <tbody>\n",
       "    <tr>\n",
       "      <th>0</th>\n",
       "      <td>Overnight</td>\n",
       "      <td>Cloudy</td>\n",
       "      <td>Low: 54 °F</td>\n",
       "      <td>Cloudy, with a low around 54. West southwest w...</td>\n",
       "    </tr>\n",
       "    <tr>\n",
       "      <th>1</th>\n",
       "      <td>Monday</td>\n",
       "      <td>GradualClearing</td>\n",
       "      <td>High: 65 °F</td>\n",
       "      <td>Cloudy through mid morning, then gradual clear...</td>\n",
       "    </tr>\n",
       "    <tr>\n",
       "      <th>2</th>\n",
       "      <td>MondayNight</td>\n",
       "      <td>IncreasingClouds</td>\n",
       "      <td>Low: 54 °F</td>\n",
       "      <td>Increasing clouds, with a low around 54. West ...</td>\n",
       "    </tr>\n",
       "    <tr>\n",
       "      <th>3</th>\n",
       "      <td>Tuesday</td>\n",
       "      <td>DecreasingClouds</td>\n",
       "      <td>High: 65 °F</td>\n",
       "      <td>Mostly cloudy, then gradually becoming sunny, ...</td>\n",
       "    </tr>\n",
       "    <tr>\n",
       "      <th>4</th>\n",
       "      <td>TuesdayNight</td>\n",
       "      <td>Partly Cloudy</td>\n",
       "      <td>Low: 53 °F</td>\n",
       "      <td>Partly cloudy, with a low around 53. West sout...</td>\n",
       "    </tr>\n",
       "    <tr>\n",
       "      <th>5</th>\n",
       "      <td>Wednesday</td>\n",
       "      <td>Mostly Sunny</td>\n",
       "      <td>High: 67 °F</td>\n",
       "      <td>Mostly sunny, with a high near 67.</td>\n",
       "    </tr>\n",
       "    <tr>\n",
       "      <th>6</th>\n",
       "      <td>WednesdayNight</td>\n",
       "      <td>Mostly Clear</td>\n",
       "      <td>Low: 55 °F</td>\n",
       "      <td>Mostly clear, with a low around 55.</td>\n",
       "    </tr>\n",
       "    <tr>\n",
       "      <th>7</th>\n",
       "      <td>Thursday</td>\n",
       "      <td>Sunny</td>\n",
       "      <td>High: 72 °F</td>\n",
       "      <td>Sunny, with a high near 72.</td>\n",
       "    </tr>\n",
       "    <tr>\n",
       "      <th>8</th>\n",
       "      <td>ThursdayNight</td>\n",
       "      <td>Mostly Clear</td>\n",
       "      <td>Low: 56 °F</td>\n",
       "      <td>Mostly clear, with a low around 56.</td>\n",
       "    </tr>\n",
       "  </tbody>\n",
       "</table>\n",
       "</div>"
      ],
      "text/plain": [
       "           Period Short_description         Temp  \\\n",
       "0       Overnight            Cloudy   Low: 54 °F   \n",
       "1          Monday   GradualClearing  High: 65 °F   \n",
       "2     MondayNight  IncreasingClouds   Low: 54 °F   \n",
       "3         Tuesday  DecreasingClouds  High: 65 °F   \n",
       "4    TuesdayNight     Partly Cloudy   Low: 53 °F   \n",
       "5       Wednesday      Mostly Sunny  High: 67 °F   \n",
       "6  WednesdayNight      Mostly Clear   Low: 55 °F   \n",
       "7        Thursday             Sunny  High: 72 °F   \n",
       "8   ThursdayNight      Mostly Clear   Low: 56 °F   \n",
       "\n",
       "                                   Detailed_forecast  \n",
       "0  Cloudy, with a low around 54. West southwest w...  \n",
       "1  Cloudy through mid morning, then gradual clear...  \n",
       "2  Increasing clouds, with a low around 54. West ...  \n",
       "3  Mostly cloudy, then gradually becoming sunny, ...  \n",
       "4  Partly cloudy, with a low around 53. West sout...  \n",
       "5                 Mostly sunny, with a high near 67.  \n",
       "6                Mostly clear, with a low around 55.  \n",
       "7                        Sunny, with a high near 72.  \n",
       "8                Mostly clear, with a low around 56.  "
      ]
     },
     "execution_count": 112,
     "metadata": {},
     "output_type": "execute_result"
    }
   ],
   "source": [
    "Weather_data=pd.DataFrame({})\n",
    "Weather_data[\"Period\"]= Period[:9]\n",
    "Weather_data[\"Short_description\"]=Short_description[:9]\n",
    "Weather_data[\"Temp\"]=Temp[:9]\n",
    "Weather_data[\"Detailed_forecast\"]=Detailed_forecast[:9]\n",
    "Weather_data"
   ]
  },
  {
   "cell_type": "code",
   "execution_count": null,
   "id": "0241e155",
   "metadata": {},
   "outputs": [],
   "source": []
  },
  {
   "cell_type": "code",
   "execution_count": null,
   "id": "6a14cd29",
   "metadata": {},
   "outputs": [],
   "source": []
  },
  {
   "cell_type": "markdown",
   "id": "0be7e38c",
   "metadata": {},
   "source": [
    "#9. Write a python program to scrape fresher job listings from ‘https://internshala.com/’.\n",
    "\n",
    "   #It should include job title, company name, CTC, and apply date"
   ]
  },
  {
   "cell_type": "code",
   "execution_count": null,
   "id": "2fcedb1c",
   "metadata": {},
   "outputs": [],
   "source": []
  },
  {
   "cell_type": "code",
   "execution_count": 113,
   "id": "91299eec",
   "metadata": {},
   "outputs": [
    {
     "data": {
      "text/plain": [
       "<Response [200]>"
      ]
     },
     "execution_count": 113,
     "metadata": {},
     "output_type": "execute_result"
    }
   ],
   "source": [
    "page=requests.get(\"https://internshala.com/fresher-jobs\")\n",
    "page"
   ]
  },
  {
   "cell_type": "code",
   "execution_count": 114,
   "id": "c0c3cc39",
   "metadata": {},
   "outputs": [],
   "source": [
    "soup = BeautifulSoup(page.content)"
   ]
  },
  {
   "cell_type": "code",
   "execution_count": 115,
   "id": "3b872664",
   "metadata": {},
   "outputs": [],
   "source": [
    "job = soup.find_all(\"div\", class_=\"heading_4_5 profile\")"
   ]
  },
  {
   "cell_type": "code",
   "execution_count": 116,
   "id": "ba2cce9e",
   "metadata": {},
   "outputs": [],
   "source": [
    "Job_title = [] #empty list\n",
    "\n",
    "for i in job:\n",
    "    Job_title.append(i.text.replace(\"\\n\",\"\"))"
   ]
  },
  {
   "cell_type": "code",
   "execution_count": 117,
   "id": "01a73f1d",
   "metadata": {},
   "outputs": [],
   "source": [
    "cname = soup.find_all(\"div\",class_=\"heading_6 company_name\")"
   ]
  },
  {
   "cell_type": "code",
   "execution_count": 118,
   "id": "0bba7e2e",
   "metadata": {},
   "outputs": [],
   "source": [
    "Company_name = [] #empty list\n",
    "\n",
    "for i in cname:\n",
    "    Company_name.append(i.text.strip())"
   ]
  },
  {
   "cell_type": "code",
   "execution_count": 119,
   "id": "0432df62",
   "metadata": {},
   "outputs": [],
   "source": [
    "ctc=soup.find_all('div',class_='item_body')"
   ]
  },
  {
   "cell_type": "code",
   "execution_count": 120,
   "id": "39fed3ac",
   "metadata": {},
   "outputs": [],
   "source": [
    "CTC=[]\n",
    "for i in ctc:\n",
    "    CTC.append(i.text.strip())"
   ]
  },
  {
   "cell_type": "code",
   "execution_count": 121,
   "id": "7b4ee6ee",
   "metadata": {},
   "outputs": [],
   "source": [
    "last_date=soup.find_all('div',class_='item_body')"
   ]
  },
  {
   "cell_type": "code",
   "execution_count": 122,
   "id": "e88ae36b",
   "metadata": {},
   "outputs": [],
   "source": [
    "Last_date=[]\n",
    "for i in last_date:\n",
    "    Last_date.append(i.text.strip())"
   ]
  },
  {
   "cell_type": "code",
   "execution_count": 123,
   "id": "fd6610f1",
   "metadata": {},
   "outputs": [
    {
     "data": {
      "text/html": [
       "<div>\n",
       "<style scoped>\n",
       "    .dataframe tbody tr th:only-of-type {\n",
       "        vertical-align: middle;\n",
       "    }\n",
       "\n",
       "    .dataframe tbody tr th {\n",
       "        vertical-align: top;\n",
       "    }\n",
       "\n",
       "    .dataframe thead th {\n",
       "        text-align: right;\n",
       "    }\n",
       "</style>\n",
       "<table border=\"1\" class=\"dataframe\">\n",
       "  <thead>\n",
       "    <tr style=\"text-align: right;\">\n",
       "      <th></th>\n",
       "      <th>Job_title</th>\n",
       "      <th>Company_name</th>\n",
       "      <th>CTC</th>\n",
       "      <th>Last_date</th>\n",
       "    </tr>\n",
       "  </thead>\n",
       "  <tbody>\n",
       "    <tr>\n",
       "      <th>0</th>\n",
       "      <td>OMNI SPORT LEADER</td>\n",
       "      <td>Decathlon Sport India Private Limited</td>\n",
       "      <td>3 - 4.2 LPA</td>\n",
       "      <td>11 Sep' 21</td>\n",
       "    </tr>\n",
       "    <tr>\n",
       "      <th>1</th>\n",
       "      <td>Executive/Senior Executive - Partnerships</td>\n",
       "      <td>Freecharge Payments Technology Private Limited</td>\n",
       "      <td>3 - 3.5 LPA</td>\n",
       "      <td>11 Sep' 21</td>\n",
       "    </tr>\n",
       "    <tr>\n",
       "      <th>2</th>\n",
       "      <td>Executive - Sales</td>\n",
       "      <td>Freecharge Payments Technology Private Limited</td>\n",
       "      <td>3 - 4 LPA</td>\n",
       "      <td>4 Sep' 21</td>\n",
       "    </tr>\n",
       "    <tr>\n",
       "      <th>3</th>\n",
       "      <td>Junior Operations Executive</td>\n",
       "      <td>Freecharge Payments Technology Private Limited</td>\n",
       "      <td>3.25 - 3.75 LPA</td>\n",
       "      <td>22 Sep' 21</td>\n",
       "    </tr>\n",
       "    <tr>\n",
       "      <th>4</th>\n",
       "      <td>Software Developer Trainee</td>\n",
       "      <td>Pinnacle Software And Services Private Limited</td>\n",
       "      <td>3 - 3.5 LPA</td>\n",
       "      <td>22 Sep' 21</td>\n",
       "    </tr>\n",
       "    <tr>\n",
       "      <th>5</th>\n",
       "      <td>UI/UX Designer</td>\n",
       "      <td>Masterstroke Media Private Limited</td>\n",
       "      <td>3 - 5 LPA</td>\n",
       "      <td>22 Sep' 21</td>\n",
       "    </tr>\n",
       "    <tr>\n",
       "      <th>6</th>\n",
       "      <td>Business Development Associate</td>\n",
       "      <td>Karmic Seed</td>\n",
       "      <td>3 - 3.2 LPA</td>\n",
       "      <td>22 Sep' 21</td>\n",
       "    </tr>\n",
       "    <tr>\n",
       "      <th>7</th>\n",
       "      <td>Embedded Systems Associate</td>\n",
       "      <td>Embedded Technosolutions</td>\n",
       "      <td>3 - 5 LPA</td>\n",
       "      <td>22 Sep' 21</td>\n",
       "    </tr>\n",
       "    <tr>\n",
       "      <th>8</th>\n",
       "      <td>Digital Marketing Executive</td>\n",
       "      <td>Triny.io</td>\n",
       "      <td>3 - 5 LPA</td>\n",
       "      <td>22 Sep' 21</td>\n",
       "    </tr>\n",
       "    <tr>\n",
       "      <th>9</th>\n",
       "      <td>Node.js &amp; React.js Developer</td>\n",
       "      <td>Saino First Network Private Limited</td>\n",
       "      <td>5 - 6.5 LPA</td>\n",
       "      <td>22 Sep' 21</td>\n",
       "    </tr>\n",
       "    <tr>\n",
       "      <th>10</th>\n",
       "      <td>Front-End Engineer</td>\n",
       "      <td>AffinityAnswers</td>\n",
       "      <td>3 - 5 LPA</td>\n",
       "      <td>22 Sep' 21</td>\n",
       "    </tr>\n",
       "    <tr>\n",
       "      <th>11</th>\n",
       "      <td>Business Development Manager</td>\n",
       "      <td>Sweatbath Technologies Private Limited (Gymshim)</td>\n",
       "      <td>3 - 4.5 LPA</td>\n",
       "      <td>21 Sep' 21</td>\n",
       "    </tr>\n",
       "    <tr>\n",
       "      <th>12</th>\n",
       "      <td>Business Development Associate</td>\n",
       "      <td>Kaizen Academy</td>\n",
       "      <td>4.5 - 6.5 LPA</td>\n",
       "      <td>21 Sep' 21</td>\n",
       "    </tr>\n",
       "    <tr>\n",
       "      <th>13</th>\n",
       "      <td>Full Stack Developer</td>\n",
       "      <td>Novolytics</td>\n",
       "      <td>3 - 3.1 LPA</td>\n",
       "      <td>21 Sep' 21</td>\n",
       "    </tr>\n",
       "    <tr>\n",
       "      <th>14</th>\n",
       "      <td>Junior Corporate Sales Executive</td>\n",
       "      <td>Anuhar Homes</td>\n",
       "      <td>3 - 6 LPA</td>\n",
       "      <td>20 Sep' 21</td>\n",
       "    </tr>\n",
       "    <tr>\n",
       "      <th>15</th>\n",
       "      <td>Django/Python Developer</td>\n",
       "      <td>OPSKUBE</td>\n",
       "      <td>3 - 3.36 LPA</td>\n",
       "      <td>20 Sep' 21</td>\n",
       "    </tr>\n",
       "    <tr>\n",
       "      <th>16</th>\n",
       "      <td>Business Correspondent</td>\n",
       "      <td>IPP Catalog Publications PL</td>\n",
       "      <td>5 LPA</td>\n",
       "      <td>20 Sep' 21</td>\n",
       "    </tr>\n",
       "    <tr>\n",
       "      <th>17</th>\n",
       "      <td>Software Developer</td>\n",
       "      <td>Recruit CRM</td>\n",
       "      <td>3 - 3.6 LPA</td>\n",
       "      <td>20 Sep' 21</td>\n",
       "    </tr>\n",
       "    <tr>\n",
       "      <th>18</th>\n",
       "      <td>Operations Manager</td>\n",
       "      <td>CloudKrate Solutions Private Limited</td>\n",
       "      <td>3 LPA</td>\n",
       "      <td>20 Sep' 21</td>\n",
       "    </tr>\n",
       "    <tr>\n",
       "      <th>19</th>\n",
       "      <td>Python Developer</td>\n",
       "      <td>Incrivelsoft Private Limited</td>\n",
       "      <td>3 - 5 LPA</td>\n",
       "      <td>20 Sep' 21</td>\n",
       "    </tr>\n",
       "    <tr>\n",
       "      <th>20</th>\n",
       "      <td>Embedded Systems Associate</td>\n",
       "      <td>MS Technologies</td>\n",
       "      <td>3 - 3.5 LPA</td>\n",
       "      <td>20 Sep' 21</td>\n",
       "    </tr>\n",
       "    <tr>\n",
       "      <th>21</th>\n",
       "      <td>PHP And Moodle Developer</td>\n",
       "      <td>Koneru Bhaskara Rao &amp; Hemalata Human Developme...</td>\n",
       "      <td>5.5 - 6.1 LPA</td>\n",
       "      <td>20 Sep' 21</td>\n",
       "    </tr>\n",
       "    <tr>\n",
       "      <th>22</th>\n",
       "      <td>Content Creator</td>\n",
       "      <td>Wono Inc</td>\n",
       "      <td>5.1 - 5.5 LPA</td>\n",
       "      <td>20 Sep' 21</td>\n",
       "    </tr>\n",
       "    <tr>\n",
       "      <th>23</th>\n",
       "      <td>Marketing Assistant</td>\n",
       "      <td>Wono Inc</td>\n",
       "      <td>3 - 10 LPA</td>\n",
       "      <td>19 Sep' 21</td>\n",
       "    </tr>\n",
       "    <tr>\n",
       "      <th>24</th>\n",
       "      <td>Full Stack Developer - Founders Office</td>\n",
       "      <td>LetsDressUp</td>\n",
       "      <td>3 - 3.5 LPA</td>\n",
       "      <td>19 Sep' 21</td>\n",
       "    </tr>\n",
       "    <tr>\n",
       "      <th>25</th>\n",
       "      <td>Software Developer - Java</td>\n",
       "      <td>WebBee Global</td>\n",
       "      <td>3 - 3.2 LPA</td>\n",
       "      <td>19 Sep' 21</td>\n",
       "    </tr>\n",
       "    <tr>\n",
       "      <th>26</th>\n",
       "      <td>Associate Software Developer</td>\n",
       "      <td>Durvesh Santosh Naik</td>\n",
       "      <td>3 - 7 LPA</td>\n",
       "      <td>19 Sep' 21</td>\n",
       "    </tr>\n",
       "    <tr>\n",
       "      <th>27</th>\n",
       "      <td>Front End Developer</td>\n",
       "      <td>Ninjaas Labs Private Limited</td>\n",
       "      <td>3.6 - 7.2 LPA</td>\n",
       "      <td>19 Sep' 21</td>\n",
       "    </tr>\n",
       "    <tr>\n",
       "      <th>28</th>\n",
       "      <td>Junior Software Developer</td>\n",
       "      <td>Nexweave Technologies Private Limited</td>\n",
       "      <td>3 - 5 LPA</td>\n",
       "      <td>19 Sep' 21</td>\n",
       "    </tr>\n",
       "    <tr>\n",
       "      <th>29</th>\n",
       "      <td>Graphic Designer</td>\n",
       "      <td>Fourth Frontier</td>\n",
       "      <td>3 - 8 LPA</td>\n",
       "      <td>19 Sep' 21</td>\n",
       "    </tr>\n",
       "    <tr>\n",
       "      <th>30</th>\n",
       "      <td>Three.js Developer Trainee</td>\n",
       "      <td>Thinqbot Technologies Private Limited</td>\n",
       "      <td>3 - 8 LPA</td>\n",
       "      <td>19 Sep' 21</td>\n",
       "    </tr>\n",
       "    <tr>\n",
       "      <th>31</th>\n",
       "      <td>Full Stack Developer Trainee</td>\n",
       "      <td>Thinqbot Technologies Private Limited</td>\n",
       "      <td>4 - 5 LPA</td>\n",
       "      <td>22 Sep' 21</td>\n",
       "    </tr>\n",
       "    <tr>\n",
       "      <th>32</th>\n",
       "      <td>Immigration Consultant</td>\n",
       "      <td>Novus Immigration Services Private Limited</td>\n",
       "      <td>4.2 - 4.8 LPA</td>\n",
       "      <td>19 Sep' 21</td>\n",
       "    </tr>\n",
       "    <tr>\n",
       "      <th>33</th>\n",
       "      <td>Software Developer - Backend</td>\n",
       "      <td>COSGrid Systems Private Limited</td>\n",
       "      <td>3 - 3.5 LPA</td>\n",
       "      <td>19 Sep' 21</td>\n",
       "    </tr>\n",
       "    <tr>\n",
       "      <th>34</th>\n",
       "      <td>Digital Marketing Executive</td>\n",
       "      <td>21K School</td>\n",
       "      <td>3.6 - 6 LPA</td>\n",
       "      <td>18 Sep' 21</td>\n",
       "    </tr>\n",
       "    <tr>\n",
       "      <th>35</th>\n",
       "      <td>Lifestyle Manager</td>\n",
       "      <td>Pinch Lifestyle Services Private Limited</td>\n",
       "      <td>3 - 3.6 LPA</td>\n",
       "      <td>18 Sep' 21</td>\n",
       "    </tr>\n",
       "    <tr>\n",
       "      <th>36</th>\n",
       "      <td>Marketing Campaign Manager</td>\n",
       "      <td>Create My Content</td>\n",
       "      <td>3 - 5 LPA</td>\n",
       "      <td>18 Sep' 21</td>\n",
       "    </tr>\n",
       "    <tr>\n",
       "      <th>37</th>\n",
       "      <td>Business Development Associate</td>\n",
       "      <td>Collegepond Counsellors Private Limited</td>\n",
       "      <td>3 LPA</td>\n",
       "      <td>18 Sep' 21</td>\n",
       "    </tr>\n",
       "    <tr>\n",
       "      <th>38</th>\n",
       "      <td>Telecaller</td>\n",
       "      <td>Diya India Foundation</td>\n",
       "      <td>3 LPA</td>\n",
       "      <td>18 Sep' 21</td>\n",
       "    </tr>\n",
       "  </tbody>\n",
       "</table>\n",
       "</div>"
      ],
      "text/plain": [
       "                                     Job_title  \\\n",
       "0                           OMNI SPORT LEADER    \n",
       "1   Executive/Senior Executive - Partnerships    \n",
       "2                           Executive - Sales    \n",
       "3                 Junior Operations Executive    \n",
       "4                  Software Developer Trainee    \n",
       "5                              UI/UX Designer    \n",
       "6              Business Development Associate    \n",
       "7                  Embedded Systems Associate    \n",
       "8                 Digital Marketing Executive    \n",
       "9                Node.js & React.js Developer    \n",
       "10                         Front-End Engineer    \n",
       "11               Business Development Manager    \n",
       "12             Business Development Associate    \n",
       "13                       Full Stack Developer    \n",
       "14           Junior Corporate Sales Executive    \n",
       "15                    Django/Python Developer    \n",
       "16                     Business Correspondent    \n",
       "17                         Software Developer    \n",
       "18                         Operations Manager    \n",
       "19                           Python Developer    \n",
       "20                 Embedded Systems Associate    \n",
       "21                   PHP And Moodle Developer    \n",
       "22                            Content Creator    \n",
       "23                        Marketing Assistant    \n",
       "24     Full Stack Developer - Founders Office    \n",
       "25                  Software Developer - Java    \n",
       "26               Associate Software Developer    \n",
       "27                        Front End Developer    \n",
       "28                  Junior Software Developer    \n",
       "29                           Graphic Designer    \n",
       "30                 Three.js Developer Trainee    \n",
       "31               Full Stack Developer Trainee    \n",
       "32                     Immigration Consultant    \n",
       "33               Software Developer - Backend    \n",
       "34                Digital Marketing Executive    \n",
       "35                          Lifestyle Manager    \n",
       "36                 Marketing Campaign Manager    \n",
       "37             Business Development Associate    \n",
       "38                                 Telecaller    \n",
       "\n",
       "                                         Company_name              CTC  \\\n",
       "0               Decathlon Sport India Private Limited      3 - 4.2 LPA   \n",
       "1      Freecharge Payments Technology Private Limited      3 - 3.5 LPA   \n",
       "2      Freecharge Payments Technology Private Limited        3 - 4 LPA   \n",
       "3      Freecharge Payments Technology Private Limited  3.25 - 3.75 LPA   \n",
       "4      Pinnacle Software And Services Private Limited      3 - 3.5 LPA   \n",
       "5                  Masterstroke Media Private Limited        3 - 5 LPA   \n",
       "6                                         Karmic Seed      3 - 3.2 LPA   \n",
       "7                            Embedded Technosolutions        3 - 5 LPA   \n",
       "8                                            Triny.io        3 - 5 LPA   \n",
       "9                 Saino First Network Private Limited      5 - 6.5 LPA   \n",
       "10                                    AffinityAnswers        3 - 5 LPA   \n",
       "11   Sweatbath Technologies Private Limited (Gymshim)      3 - 4.5 LPA   \n",
       "12                                     Kaizen Academy    4.5 - 6.5 LPA   \n",
       "13                                         Novolytics      3 - 3.1 LPA   \n",
       "14                                       Anuhar Homes        3 - 6 LPA   \n",
       "15                                            OPSKUBE     3 - 3.36 LPA   \n",
       "16                        IPP Catalog Publications PL            5 LPA   \n",
       "17                                        Recruit CRM      3 - 3.6 LPA   \n",
       "18               CloudKrate Solutions Private Limited            3 LPA   \n",
       "19                       Incrivelsoft Private Limited        3 - 5 LPA   \n",
       "20                                    MS Technologies      3 - 3.5 LPA   \n",
       "21  Koneru Bhaskara Rao & Hemalata Human Developme...    5.5 - 6.1 LPA   \n",
       "22                                           Wono Inc    5.1 - 5.5 LPA   \n",
       "23                                           Wono Inc       3 - 10 LPA   \n",
       "24                                        LetsDressUp      3 - 3.5 LPA   \n",
       "25                                      WebBee Global      3 - 3.2 LPA   \n",
       "26                               Durvesh Santosh Naik        3 - 7 LPA   \n",
       "27                       Ninjaas Labs Private Limited    3.6 - 7.2 LPA   \n",
       "28              Nexweave Technologies Private Limited        3 - 5 LPA   \n",
       "29                                    Fourth Frontier        3 - 8 LPA   \n",
       "30              Thinqbot Technologies Private Limited        3 - 8 LPA   \n",
       "31              Thinqbot Technologies Private Limited        4 - 5 LPA   \n",
       "32         Novus Immigration Services Private Limited    4.2 - 4.8 LPA   \n",
       "33                    COSGrid Systems Private Limited      3 - 3.5 LPA   \n",
       "34                                         21K School      3.6 - 6 LPA   \n",
       "35           Pinch Lifestyle Services Private Limited      3 - 3.6 LPA   \n",
       "36                                  Create My Content        3 - 5 LPA   \n",
       "37            Collegepond Counsellors Private Limited            3 LPA   \n",
       "38                              Diya India Foundation            3 LPA   \n",
       "\n",
       "     Last_date  \n",
       "0   11 Sep' 21  \n",
       "1   11 Sep' 21  \n",
       "2    4 Sep' 21  \n",
       "3   22 Sep' 21  \n",
       "4   22 Sep' 21  \n",
       "5   22 Sep' 21  \n",
       "6   22 Sep' 21  \n",
       "7   22 Sep' 21  \n",
       "8   22 Sep' 21  \n",
       "9   22 Sep' 21  \n",
       "10  22 Sep' 21  \n",
       "11  21 Sep' 21  \n",
       "12  21 Sep' 21  \n",
       "13  21 Sep' 21  \n",
       "14  20 Sep' 21  \n",
       "15  20 Sep' 21  \n",
       "16  20 Sep' 21  \n",
       "17  20 Sep' 21  \n",
       "18  20 Sep' 21  \n",
       "19  20 Sep' 21  \n",
       "20  20 Sep' 21  \n",
       "21  20 Sep' 21  \n",
       "22  20 Sep' 21  \n",
       "23  19 Sep' 21  \n",
       "24  19 Sep' 21  \n",
       "25  19 Sep' 21  \n",
       "26  19 Sep' 21  \n",
       "27  19 Sep' 21  \n",
       "28  19 Sep' 21  \n",
       "29  19 Sep' 21  \n",
       "30  19 Sep' 21  \n",
       "31  22 Sep' 21  \n",
       "32  19 Sep' 21  \n",
       "33  19 Sep' 21  \n",
       "34  18 Sep' 21  \n",
       "35  18 Sep' 21  \n",
       "36  18 Sep' 21  \n",
       "37  18 Sep' 21  \n",
       "38  18 Sep' 21  "
      ]
     },
     "execution_count": 123,
     "metadata": {},
     "output_type": "execute_result"
    }
   ],
   "source": [
    "Fresher_JOB=pd.DataFrame({})\n",
    "Fresher_JOB['Job_title']=Job_title[:39]\n",
    "Fresher_JOB['Company_name']=Company_name[:39]\n",
    "Fresher_JOB['CTC']=CTC[4::3][:39]\n",
    "Fresher_JOB['Last_date']=Last_date[5::3][:39]\n",
    "Fresher_JOB"
   ]
  },
  {
   "cell_type": "code",
   "execution_count": null,
   "id": "a10a42ce",
   "metadata": {},
   "outputs": [],
   "source": []
  },
  {
   "cell_type": "code",
   "execution_count": null,
   "id": "79b019ef",
   "metadata": {},
   "outputs": [],
   "source": []
  },
  {
   "cell_type": "markdown",
   "id": "88fd091e",
   "metadata": {},
   "source": [
    "#10. Write a python program to scrape house details from https://www.nobroker.in/ for any location.\n",
    "\n",
    "#It should include house title, location, area, emi and price"
   ]
  },
  {
   "cell_type": "code",
   "execution_count": null,
   "id": "ce812307",
   "metadata": {},
   "outputs": [],
   "source": []
  },
  {
   "cell_type": "code",
   "execution_count": 124,
   "id": "b0105c4a",
   "metadata": {},
   "outputs": [
    {
     "data": {
      "text/plain": [
       "<Response [200]>"
      ]
     },
     "execution_count": 124,
     "metadata": {},
     "output_type": "execute_result"
    }
   ],
   "source": [
    "page=requests.get(\"https://www.nobroker.in/property/sale/delhi/Okhla?searchParam=W3sibGF0IjoyOC41NjI1NTE4LCJsb24iOjc3LjI5MTM3MjksInBsYWNlSWQiOiJDaElKbl9PakduWGtERGtSZlp5ajYwZnRFRnciLCJwbGFjZU5hbWUiOiJPa2hsYSJ9XQ==&radius=2.0\")\n",
    "page"
   ]
  },
  {
   "cell_type": "code",
   "execution_count": 125,
   "id": "cf2f9cb5",
   "metadata": {},
   "outputs": [],
   "source": [
    "soup=BeautifulSoup(page.content)"
   ]
  },
  {
   "cell_type": "code",
   "execution_count": 126,
   "id": "d182eacd",
   "metadata": {
    "scrolled": true
   },
   "outputs": [],
   "source": [
    "advert = soup.find_all(\"h2\")"
   ]
  },
  {
   "cell_type": "code",
   "execution_count": 127,
   "id": "1cdbcc8e",
   "metadata": {},
   "outputs": [],
   "source": [
    "Advert_name= [] #empty list\n",
    "\n",
    "for i in advert:\n",
    "    Advert_name.append(i.text)\n",
    "    "
   ]
  },
  {
   "cell_type": "code",
   "execution_count": 128,
   "id": "7bf101b7",
   "metadata": {},
   "outputs": [],
   "source": [
    "location=soup.find_all('div',class_='nb__2CMjv')"
   ]
  },
  {
   "cell_type": "code",
   "execution_count": 129,
   "id": "62b1f8cb",
   "metadata": {},
   "outputs": [],
   "source": [
    "Location=[]\n",
    "for i in location:\n",
    "    Location.append(i.text.replace('\\n',' '))\n"
   ]
  },
  {
   "cell_type": "code",
   "execution_count": 130,
   "id": "d5b9f92e",
   "metadata": {},
   "outputs": [],
   "source": [
    "area = soup.find_all(\"div\",class_=\"nb__3oNyC\")"
   ]
  },
  {
   "cell_type": "code",
   "execution_count": 131,
   "id": "442b2af6",
   "metadata": {},
   "outputs": [],
   "source": [
    "Area=[]\n",
    "for i in area:\n",
    "    Area.append(i.text.replace('\\n',' '))"
   ]
  },
  {
   "cell_type": "code",
   "execution_count": 132,
   "id": "041c146c",
   "metadata": {},
   "outputs": [],
   "source": [
    "emi=soup.find_all('div',class_='font-semi-bold heading-6')"
   ]
  },
  {
   "cell_type": "code",
   "execution_count": 133,
   "id": "f0628690",
   "metadata": {},
   "outputs": [],
   "source": [
    "EMI=[]\n",
    "for i in emi:\n",
    "    EMI.append(i.text.replace('\\n',' '))"
   ]
  },
  {
   "cell_type": "code",
   "execution_count": 134,
   "id": "936131bb",
   "metadata": {},
   "outputs": [
    {
     "data": {
      "text/html": [
       "<div>\n",
       "<style scoped>\n",
       "    .dataframe tbody tr th:only-of-type {\n",
       "        vertical-align: middle;\n",
       "    }\n",
       "\n",
       "    .dataframe tbody tr th {\n",
       "        vertical-align: top;\n",
       "    }\n",
       "\n",
       "    .dataframe thead th {\n",
       "        text-align: right;\n",
       "    }\n",
       "</style>\n",
       "<table border=\"1\" class=\"dataframe\">\n",
       "  <thead>\n",
       "    <tr style=\"text-align: right;\">\n",
       "      <th></th>\n",
       "      <th>Advert_name</th>\n",
       "      <th>Location</th>\n",
       "      <th>Area</th>\n",
       "      <th>EMI</th>\n",
       "      <th>Price</th>\n",
       "    </tr>\n",
       "  </thead>\n",
       "  <tbody>\n",
       "    <tr>\n",
       "      <th>0</th>\n",
       "      <td>2 BHK Flat  For Sale  In Abul Fazal Enclave, O...</td>\n",
       "      <td>Jamia Nagar, Okhla, Delhi, INDIA.</td>\n",
       "      <td>650 sqft</td>\n",
       "      <td>₹18,340/Month</td>\n",
       "      <td>₹32 Lacs</td>\n",
       "    </tr>\n",
       "    <tr>\n",
       "      <th>1</th>\n",
       "      <td>2 BHK Flat  For Sale  In Ahmad Appartemnt In O...</td>\n",
       "      <td>Jamia Nagar, near Jama Masjid Kahkashan</td>\n",
       "      <td>585 sqft</td>\n",
       "      <td>₹17,767/Month</td>\n",
       "      <td>₹31 Lacs</td>\n",
       "    </tr>\n",
       "    <tr>\n",
       "      <th>2</th>\n",
       "      <td>3 BHK Flat  For Sale  In Okhla Vihar</td>\n",
       "      <td>Standalone Building, Okhla Vihar</td>\n",
       "      <td>1,000 sqft</td>\n",
       "      <td>₹33,242/Month</td>\n",
       "      <td>₹58 Lacs</td>\n",
       "    </tr>\n",
       "    <tr>\n",
       "      <th>3</th>\n",
       "      <td>2 BHK Flat  For Sale  In Khan&amp;#39;s Comfort Ho...</td>\n",
       "      <td>Near Children's Park</td>\n",
       "      <td>910 sqft</td>\n",
       "      <td>₹33,242/Month</td>\n",
       "      <td>₹58 Lacs</td>\n",
       "    </tr>\n",
       "    <tr>\n",
       "      <th>4</th>\n",
       "      <td>2 BHK Flat  For Sale  In Shaheen Bagh In Shahe...</td>\n",
       "      <td>near ek minara masjid</td>\n",
       "      <td>500 sqft</td>\n",
       "      <td>₹11,462/Month</td>\n",
       "      <td>₹20 Lacs</td>\n",
       "    </tr>\n",
       "    <tr>\n",
       "      <th>5</th>\n",
       "      <td>3 BHK Flat  For Sale  In Standalone Builidng  ...</td>\n",
       "      <td>Okhla road near  Delhi Government Dispensary</td>\n",
       "      <td>1,100 sqft</td>\n",
       "      <td>₹28,084/Month</td>\n",
       "      <td>₹49 Lacs</td>\n",
       "    </tr>\n",
       "    <tr>\n",
       "      <th>6</th>\n",
       "      <td>3 BHK Flat  For Sale  In Shaheen Bagh</td>\n",
       "      <td>Standalone Building, Jasola Vihar Main Rd near...</td>\n",
       "      <td>1,125 sqft</td>\n",
       "      <td>₹45,851/Month</td>\n",
       "      <td>₹80 Lacs</td>\n",
       "    </tr>\n",
       "    <tr>\n",
       "      <th>7</th>\n",
       "      <td>2 BHK Flat  For Sale  In Dda Flats In Okhla</td>\n",
       "      <td>Sukhdev Vihar, DDA Flats</td>\n",
       "      <td>1,112 sqft</td>\n",
       "      <td>₹57,314/Month</td>\n",
       "      <td>₹1 Crore</td>\n",
       "    </tr>\n",
       "    <tr>\n",
       "      <th>8</th>\n",
       "      <td>2 BHK Flat  For Sale  In Okhla</td>\n",
       "      <td>Standalone Building, R Block, Jogabai Extensio...</td>\n",
       "      <td>432 sqft</td>\n",
       "      <td>₹7,164/Month</td>\n",
       "      <td>₹12.5 Lacs</td>\n",
       "    </tr>\n",
       "    <tr>\n",
       "      <th>9</th>\n",
       "      <td>4 BHK Flat  For Sale  In Okhla</td>\n",
       "      <td>Standalone Building, Zakir Nagar Main Rd, Bloc...</td>\n",
       "      <td>1,800 sqft</td>\n",
       "      <td>₹34,388/Month</td>\n",
       "      <td>₹60 Lacs</td>\n",
       "    </tr>\n",
       "  </tbody>\n",
       "</table>\n",
       "</div>"
      ],
      "text/plain": [
       "                                         Advert_name  \\\n",
       "0  2 BHK Flat  For Sale  In Abul Fazal Enclave, O...   \n",
       "1  2 BHK Flat  For Sale  In Ahmad Appartemnt In O...   \n",
       "2              3 BHK Flat  For Sale  In Okhla Vihar    \n",
       "3  2 BHK Flat  For Sale  In Khan&#39;s Comfort Ho...   \n",
       "4  2 BHK Flat  For Sale  In Shaheen Bagh In Shahe...   \n",
       "5  3 BHK Flat  For Sale  In Standalone Builidng  ...   \n",
       "6             3 BHK Flat  For Sale  In Shaheen Bagh    \n",
       "7       2 BHK Flat  For Sale  In Dda Flats In Okhla    \n",
       "8                    2 BHK Flat  For Sale  In Okhla    \n",
       "9                    4 BHK Flat  For Sale  In Okhla    \n",
       "\n",
       "                                            Location        Area  \\\n",
       "0                 Jamia Nagar, Okhla, Delhi, INDIA.     650 sqft   \n",
       "1            Jamia Nagar, near Jama Masjid Kahkashan    585 sqft   \n",
       "2                   Standalone Building, Okhla Vihar  1,000 sqft   \n",
       "3                               Near Children's Park    910 sqft   \n",
       "4                              near ek minara masjid    500 sqft   \n",
       "5      Okhla road near  Delhi Government Dispensary   1,100 sqft   \n",
       "6  Standalone Building, Jasola Vihar Main Rd near...  1,125 sqft   \n",
       "7                           Sukhdev Vihar, DDA Flats  1,112 sqft   \n",
       "8  Standalone Building, R Block, Jogabai Extensio...    432 sqft   \n",
       "9  Standalone Building, Zakir Nagar Main Rd, Bloc...  1,800 sqft   \n",
       "\n",
       "             EMI       Price  \n",
       "0  ₹18,340/Month    ₹32 Lacs  \n",
       "1  ₹17,767/Month    ₹31 Lacs  \n",
       "2  ₹33,242/Month    ₹58 Lacs  \n",
       "3  ₹33,242/Month    ₹58 Lacs  \n",
       "4  ₹11,462/Month    ₹20 Lacs  \n",
       "5  ₹28,084/Month    ₹49 Lacs  \n",
       "6  ₹45,851/Month    ₹80 Lacs  \n",
       "7  ₹57,314/Month    ₹1 Crore  \n",
       "8   ₹7,164/Month  ₹12.5 Lacs  \n",
       "9  ₹34,388/Month    ₹60 Lacs  "
      ]
     },
     "execution_count": 134,
     "metadata": {},
     "output_type": "execute_result"
    }
   ],
   "source": [
    "nobroker=pd.DataFrame({})\n",
    "nobroker['Advert_name']=Advert_name\n",
    "nobroker['Location']=Location\n",
    "nobroker['Area']=Area\n",
    "nobroker['EMI']=EMI[1::3]\n",
    "nobroker['Price']=EMI[2::3]\n",
    "nobroker"
   ]
  },
  {
   "cell_type": "code",
   "execution_count": null,
   "id": "55dd32ef",
   "metadata": {},
   "outputs": [],
   "source": []
  },
  {
   "cell_type": "code",
   "execution_count": null,
   "id": "07bca239",
   "metadata": {},
   "outputs": [],
   "source": []
  }
 ],
 "metadata": {
  "kernelspec": {
   "display_name": "Python 3",
   "language": "python",
   "name": "python3"
  },
  "language_info": {
   "codemirror_mode": {
    "name": "ipython",
    "version": 3
   },
   "file_extension": ".py",
   "mimetype": "text/x-python",
   "name": "python",
   "nbconvert_exporter": "python",
   "pygments_lexer": "ipython3",
   "version": "3.8.8"
  }
 },
 "nbformat": 4,
 "nbformat_minor": 5
}
