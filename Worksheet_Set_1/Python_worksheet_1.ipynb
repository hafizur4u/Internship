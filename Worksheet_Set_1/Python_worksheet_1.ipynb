{
 "cells": [
  {
   "cell_type": "markdown",
   "id": "66992ed0",
   "metadata": {},
   "source": [
    "# Python Worksheet 1"
   ]
  },
  {
   "cell_type": "markdown",
   "id": "0baacf69",
   "metadata": {},
   "source": [
    "#python program to find the Factorial of a Number"
   ]
  },
  {
   "cell_type": "code",
   "execution_count": null,
   "id": "e38f9a82",
   "metadata": {},
   "outputs": [],
   "source": []
  },
  {
   "cell_type": "code",
   "execution_count": 1,
   "id": "63935806",
   "metadata": {},
   "outputs": [
    {
     "name": "stdout",
     "output_type": "stream",
     "text": [
      "Factorial of  9 is 362880\n"
     ]
    }
   ],
   "source": [
    "import math\n",
    "def factorial(n):\n",
    "    return(math.factorial(n))\n",
    "\n",
    "num = 9\n",
    "print(\"Factorial of \",num,\"is\",\n",
    "     factorial(num))"
   ]
  },
  {
   "cell_type": "code",
   "execution_count": null,
   "id": "d24d052f",
   "metadata": {},
   "outputs": [],
   "source": []
  },
  {
   "cell_type": "code",
   "execution_count": null,
   "id": "81382696",
   "metadata": {},
   "outputs": [],
   "source": []
  },
  {
   "cell_type": "markdown",
   "id": "cec21a89",
   "metadata": {},
   "source": [
    "#python program to find whether a number is prime or composite."
   ]
  },
  {
   "cell_type": "code",
   "execution_count": null,
   "id": "9f5c9e3f",
   "metadata": {},
   "outputs": [],
   "source": []
  },
  {
   "cell_type": "code",
   "execution_count": 2,
   "id": "d65af2cd",
   "metadata": {},
   "outputs": [
    {
     "name": "stdout",
     "output_type": "stream",
     "text": [
      "19\n",
      "is a prime number\n"
     ]
    }
   ],
   "source": [
    "import math\n",
    "n = int(input())\n",
    "if n<2:\n",
    "    print(\"number must be greater than 2\")\n",
    "    quit()\n",
    "elif n==2:\n",
    "    print(\" is a prime number\")\n",
    "    quit()\n",
    "    \n",
    "i= 2\n",
    "limit = int(math.sqrt(n))\n",
    "\n",
    "while i <= limit:\n",
    "    if n % i == 0:\n",
    "        print(\"is a composite number\")\n",
    "        quit()\n",
    "        \n",
    "    i += 1\n",
    "print(\"is a prime number\")"
   ]
  },
  {
   "cell_type": "code",
   "execution_count": null,
   "id": "6005c484",
   "metadata": {},
   "outputs": [],
   "source": []
  },
  {
   "cell_type": "markdown",
   "id": "ff04245e",
   "metadata": {},
   "source": [
    "#Write a python program to check whether a given string is palindrome or not."
   ]
  },
  {
   "cell_type": "code",
   "execution_count": 3,
   "id": "db641eea",
   "metadata": {},
   "outputs": [
    {
     "name": "stdout",
     "output_type": "stream",
     "text": [
      "write a word : mark\n",
      "It is not a palindrome\n"
     ]
    }
   ],
   "source": [
    " s= input(\"write a word : \")\n",
    "a=s[::-1]\n",
    "if(a==s):\n",
    "    print(\"it is a palindrome\")\n",
    "else:\n",
    "    print(\"It is not a palindrome\")\n",
    "    "
   ]
  },
  {
   "cell_type": "code",
   "execution_count": 4,
   "id": "fe3b3ba5",
   "metadata": {},
   "outputs": [
    {
     "name": "stdout",
     "output_type": "stream",
     "text": [
      "write a word : rotator\n",
      "it is a palindrome\n"
     ]
    }
   ],
   "source": [
    " s= input(\"write a word : \")\n",
    "a=s[::-1]\n",
    "if(a==s):\n",
    "    print(\"it is a palindrome\")\n",
    "else:\n",
    "    print(\"It is not a palindrome\")\n"
   ]
  },
  {
   "cell_type": "code",
   "execution_count": null,
   "id": "b431570d",
   "metadata": {},
   "outputs": [],
   "source": []
  },
  {
   "cell_type": "code",
   "execution_count": null,
   "id": "dfb4a407",
   "metadata": {},
   "outputs": [],
   "source": []
  },
  {
   "cell_type": "code",
   "execution_count": null,
   "id": "b4d1550e",
   "metadata": {},
   "outputs": [],
   "source": []
  },
  {
   "cell_type": "markdown",
   "id": "43f3c2db",
   "metadata": {},
   "source": [
    "#Write a Python program to get the third side of right-angled triangle from two given sides"
   ]
  },
  {
   "cell_type": "code",
   "execution_count": 5,
   "id": "3b8920c7",
   "metadata": {},
   "outputs": [
    {
     "name": "stdout",
     "output_type": "stream",
     "text": [
      "Input the 2 sides of triangle:\n",
      "a: 15\n",
      "b: 20\n",
      "Length of hypotenus is: 25.0\n"
     ]
    }
   ],
   "source": [
    "from math import sqrt\n",
    "print(\"Input the 2 sides of triangle:\")\n",
    "a = float(input(\"a: \"))\n",
    "b = float(input(\"b: \"))\n",
    "c = sqrt(a**2 + b**2)\n",
    "print(\"Length of hypotenus is:\",c)\n"
   ]
  },
  {
   "cell_type": "code",
   "execution_count": null,
   "id": "10f2b0e3",
   "metadata": {},
   "outputs": [],
   "source": []
  },
  {
   "cell_type": "code",
   "execution_count": null,
   "id": "4ad8e850",
   "metadata": {},
   "outputs": [],
   "source": []
  },
  {
   "cell_type": "markdown",
   "id": "27559046",
   "metadata": {},
   "source": [
    "#Write a python program to print the frequency of each of the characters present in a given string."
   ]
  },
  {
   "cell_type": "code",
   "execution_count": 6,
   "id": "55d0edf9",
   "metadata": {},
   "outputs": [
    {
     "name": "stdout",
     "output_type": "stream",
     "text": [
      "character frequency in 'I am a good person' is :\n",
      " {'I': 1, ' ': 4, 'a': 2, 'm': 1, 'g': 1, 'o': 3, 'd': 1, 'p': 1, 'e': 1, 'r': 1, 's': 1, 'n': 1}\n"
     ]
    }
   ],
   "source": [
    "x= (\"I am a good person\")\n",
    "frequencies = {}\n",
    "for char in x:\n",
    "    if char in frequencies:\n",
    "        frequencies[char] += 1\n",
    "    else:\n",
    "        frequencies[char] = 1\n",
    "        \n",
    "print(\"character frequency in '{}' is :\\n {}\".format(x,str(frequencies)))\n"
   ]
  },
  {
   "cell_type": "code",
   "execution_count": null,
   "id": "e3c30cd2",
   "metadata": {},
   "outputs": [],
   "source": []
  },
  {
   "cell_type": "code",
   "execution_count": null,
   "id": "b3140846",
   "metadata": {},
   "outputs": [],
   "source": []
  },
  {
   "cell_type": "code",
   "execution_count": null,
   "id": "83ceb453",
   "metadata": {},
   "outputs": [],
   "source": []
  },
  {
   "cell_type": "code",
   "execution_count": null,
   "id": "363d5ff4",
   "metadata": {},
   "outputs": [],
   "source": []
  },
  {
   "cell_type": "code",
   "execution_count": null,
   "id": "26cdb025",
   "metadata": {},
   "outputs": [],
   "source": []
  },
  {
   "cell_type": "code",
   "execution_count": null,
   "id": "427e4cd2",
   "metadata": {},
   "outputs": [],
   "source": []
  },
  {
   "cell_type": "code",
   "execution_count": null,
   "id": "c2376b02",
   "metadata": {},
   "outputs": [],
   "source": []
  },
  {
   "cell_type": "code",
   "execution_count": null,
   "id": "d0f9426c",
   "metadata": {},
   "outputs": [],
   "source": []
  },
  {
   "cell_type": "code",
   "execution_count": null,
   "id": "f81c06dd",
   "metadata": {},
   "outputs": [],
   "source": []
  },
  {
   "cell_type": "code",
   "execution_count": null,
   "id": "9562f2c4",
   "metadata": {},
   "outputs": [],
   "source": []
  },
  {
   "cell_type": "code",
   "execution_count": null,
   "id": "aca97860",
   "metadata": {},
   "outputs": [],
   "source": []
  },
  {
   "cell_type": "code",
   "execution_count": null,
   "id": "114287ca",
   "metadata": {},
   "outputs": [],
   "source": []
  },
  {
   "cell_type": "code",
   "execution_count": null,
   "id": "4aaebff3",
   "metadata": {},
   "outputs": [],
   "source": []
  },
  {
   "cell_type": "code",
   "execution_count": null,
   "id": "e511c2ea",
   "metadata": {},
   "outputs": [],
   "source": []
  },
  {
   "cell_type": "code",
   "execution_count": null,
   "id": "10f3bbeb",
   "metadata": {},
   "outputs": [],
   "source": []
  },
  {
   "cell_type": "code",
   "execution_count": null,
   "id": "d4aee914",
   "metadata": {},
   "outputs": [],
   "source": []
  }
 ],
 "metadata": {
  "kernelspec": {
   "display_name": "Python 3",
   "language": "python",
   "name": "python3"
  },
  "language_info": {
   "codemirror_mode": {
    "name": "ipython",
    "version": 3
   },
   "file_extension": ".py",
   "mimetype": "text/x-python",
   "name": "python",
   "nbconvert_exporter": "python",
   "pygments_lexer": "ipython3",
   "version": "3.8.8"
  }
 },
 "nbformat": 4,
 "nbformat_minor": 5
}
